{
 "cells": [
  {
   "cell_type": "markdown",
   "metadata": {
    "application/vnd.databricks.v1+cell": {
     "cellMetadata": {},
     "inputWidgets": {},
     "nuid": "c8fd6830-7d7e-48ee-940b-0bfc426996f2",
     "showTitle": false,
     "title": ""
    }
   },
   "source": [
    "# XGBoost Regressor training\n",
    "- This is an auto-generated notebook.\n",
    "- To reproduce these results, attach this notebook to a cluster with runtime version **12.2.x-cpu-ml-scala2.12**, and rerun it.\n",
    "- Compare trials in the [MLflow experiment](#mlflow/experiments/871067855356899).\n",
    "- Clone this notebook into your project folder by selecting **File > Clone** in the notebook toolbar."
   ]
  },
  {
   "cell_type": "code",
   "execution_count": 0,
   "metadata": {
    "application/vnd.databricks.v1+cell": {
     "cellMetadata": {},
     "inputWidgets": {},
     "nuid": "660bde1d-e6d5-4f65-8edb-5a97326c2993",
     "showTitle": false,
     "title": ""
    },
    "execution": {
     "iopub.execute_input": "2024-03-03T16:35:31.255402Z",
     "iopub.status.busy": "2024-03-03T16:35:31.255132Z",
     "iopub.status.idle": "2024-03-03T16:35:31.266185Z",
     "shell.execute_reply": "2024-03-03T16:35:31.264486Z"
    }
   },
   "outputs": [],
   "source": [
    "import mlflow\n",
    "import databricks.automl_runtime\n",
    "\n",
    "target_col = \"SalePrice\""
   ]
  },
  {
   "cell_type": "markdown",
   "metadata": {
    "application/vnd.databricks.v1+cell": {
     "cellMetadata": {},
     "inputWidgets": {},
     "nuid": "c1853f84-9eae-4071-8f92-830fc89cd300",
     "showTitle": false,
     "title": ""
    }
   },
   "source": [
    "## Load Data"
   ]
  },
  {
   "cell_type": "code",
   "execution_count": 0,
   "metadata": {
    "application/vnd.databricks.v1+cell": {
     "cellMetadata": {},
     "inputWidgets": {},
     "nuid": "0d0a0d98-092a-41df-a38c-2d1ce909912a",
     "showTitle": false,
     "title": ""
    },
    "execution": {
     "iopub.execute_input": "2024-03-03T16:35:31.269871Z",
     "iopub.status.busy": "2024-03-03T16:35:31.269648Z",
     "iopub.status.idle": "2024-03-03T16:35:32.031410Z",
     "shell.execute_reply": "2024-03-03T16:35:32.030592Z"
    }
   },
   "outputs": [
    {
     "output_type": "execute_result",
     "data": {
      "text/html": [
       "<div>\n",
       "<style scoped>\n",
       "    .dataframe tbody tr th:only-of-type {\n",
       "        vertical-align: middle;\n",
       "    }\n",
       "\n",
       "    .dataframe tbody tr th {\n",
       "        vertical-align: top;\n",
       "    }\n",
       "\n",
       "    .dataframe thead th {\n",
       "        text-align: right;\n",
       "    }\n",
       "</style>\n",
       "<table border=\"1\" class=\"dataframe\">\n",
       "  <thead>\n",
       "    <tr style=\"text-align: right;\">\n",
       "      <th></th>\n",
       "      <th>Id</th>\n",
       "      <th>MSSubClass</th>\n",
       "      <th>MSZoning</th>\n",
       "      <th>LotFrontage</th>\n",
       "      <th>LotArea</th>\n",
       "      <th>Street</th>\n",
       "      <th>Alley</th>\n",
       "      <th>LotShape</th>\n",
       "      <th>LandContour</th>\n",
       "      <th>Utilities</th>\n",
       "      <th>...</th>\n",
       "      <th>PoolQC</th>\n",
       "      <th>Fence</th>\n",
       "      <th>MiscFeature</th>\n",
       "      <th>MiscVal</th>\n",
       "      <th>MoSold</th>\n",
       "      <th>YrSold</th>\n",
       "      <th>SaleType</th>\n",
       "      <th>SaleCondition</th>\n",
       "      <th>SalePrice</th>\n",
       "      <th>_automl_split_col_7282</th>\n",
       "    </tr>\n",
       "  </thead>\n",
       "  <tbody>\n",
       "    <tr>\n",
       "      <th>0</th>\n",
       "      <td>1</td>\n",
       "      <td>60</td>\n",
       "      <td>RL</td>\n",
       "      <td>65</td>\n",
       "      <td>8450</td>\n",
       "      <td>Pave</td>\n",
       "      <td>NA</td>\n",
       "      <td>Reg</td>\n",
       "      <td>Lvl</td>\n",
       "      <td>AllPub</td>\n",
       "      <td>...</td>\n",
       "      <td>NA</td>\n",
       "      <td>NA</td>\n",
       "      <td>NA</td>\n",
       "      <td>0</td>\n",
       "      <td>2</td>\n",
       "      <td>2008</td>\n",
       "      <td>WD</td>\n",
       "      <td>Normal</td>\n",
       "      <td>208500</td>\n",
       "      <td>train</td>\n",
       "    </tr>\n",
       "    <tr>\n",
       "      <th>1</th>\n",
       "      <td>5</td>\n",
       "      <td>60</td>\n",
       "      <td>RL</td>\n",
       "      <td>84</td>\n",
       "      <td>14260</td>\n",
       "      <td>Pave</td>\n",
       "      <td>NA</td>\n",
       "      <td>IR1</td>\n",
       "      <td>Lvl</td>\n",
       "      <td>AllPub</td>\n",
       "      <td>...</td>\n",
       "      <td>NA</td>\n",
       "      <td>NA</td>\n",
       "      <td>NA</td>\n",
       "      <td>0</td>\n",
       "      <td>12</td>\n",
       "      <td>2008</td>\n",
       "      <td>WD</td>\n",
       "      <td>Normal</td>\n",
       "      <td>250000</td>\n",
       "      <td>train</td>\n",
       "    </tr>\n",
       "    <tr>\n",
       "      <th>2</th>\n",
       "      <td>7</td>\n",
       "      <td>20</td>\n",
       "      <td>RL</td>\n",
       "      <td>75</td>\n",
       "      <td>10084</td>\n",
       "      <td>Pave</td>\n",
       "      <td>NA</td>\n",
       "      <td>Reg</td>\n",
       "      <td>Lvl</td>\n",
       "      <td>AllPub</td>\n",
       "      <td>...</td>\n",
       "      <td>NA</td>\n",
       "      <td>NA</td>\n",
       "      <td>NA</td>\n",
       "      <td>0</td>\n",
       "      <td>8</td>\n",
       "      <td>2007</td>\n",
       "      <td>WD</td>\n",
       "      <td>Normal</td>\n",
       "      <td>307000</td>\n",
       "      <td>train</td>\n",
       "    </tr>\n",
       "    <tr>\n",
       "      <th>3</th>\n",
       "      <td>8</td>\n",
       "      <td>60</td>\n",
       "      <td>RL</td>\n",
       "      <td>NA</td>\n",
       "      <td>10382</td>\n",
       "      <td>Pave</td>\n",
       "      <td>NA</td>\n",
       "      <td>IR1</td>\n",
       "      <td>Lvl</td>\n",
       "      <td>AllPub</td>\n",
       "      <td>...</td>\n",
       "      <td>NA</td>\n",
       "      <td>NA</td>\n",
       "      <td>Shed</td>\n",
       "      <td>350</td>\n",
       "      <td>11</td>\n",
       "      <td>2009</td>\n",
       "      <td>WD</td>\n",
       "      <td>Normal</td>\n",
       "      <td>200000</td>\n",
       "      <td>train</td>\n",
       "    </tr>\n",
       "    <tr>\n",
       "      <th>4</th>\n",
       "      <td>12</td>\n",
       "      <td>60</td>\n",
       "      <td>RL</td>\n",
       "      <td>85</td>\n",
       "      <td>11924</td>\n",
       "      <td>Pave</td>\n",
       "      <td>NA</td>\n",
       "      <td>IR1</td>\n",
       "      <td>Lvl</td>\n",
       "      <td>AllPub</td>\n",
       "      <td>...</td>\n",
       "      <td>NA</td>\n",
       "      <td>NA</td>\n",
       "      <td>NA</td>\n",
       "      <td>0</td>\n",
       "      <td>7</td>\n",
       "      <td>2006</td>\n",
       "      <td>New</td>\n",
       "      <td>Partial</td>\n",
       "      <td>345000</td>\n",
       "      <td>train</td>\n",
       "    </tr>\n",
       "  </tbody>\n",
       "</table>\n",
       "<p>5 rows × 82 columns</p>\n",
       "</div>"
      ],
      "text/plain": [
       "   Id  MSSubClass MSZoning LotFrontage  LotArea Street Alley LotShape  \\\n",
       "0   1          60       RL          65     8450   Pave    NA      Reg   \n",
       "1   5          60       RL          84    14260   Pave    NA      IR1   \n",
       "2   7          20       RL          75    10084   Pave    NA      Reg   \n",
       "3   8          60       RL          NA    10382   Pave    NA      IR1   \n",
       "4  12          60       RL          85    11924   Pave    NA      IR1   \n",
       "\n",
       "  LandContour Utilities  ... PoolQC Fence MiscFeature MiscVal MoSold YrSold  \\\n",
       "0         Lvl    AllPub  ...     NA    NA          NA       0      2   2008   \n",
       "1         Lvl    AllPub  ...     NA    NA          NA       0     12   2008   \n",
       "2         Lvl    AllPub  ...     NA    NA          NA       0      8   2007   \n",
       "3         Lvl    AllPub  ...     NA    NA        Shed     350     11   2009   \n",
       "4         Lvl    AllPub  ...     NA    NA          NA       0      7   2006   \n",
       "\n",
       "  SaleType  SaleCondition  SalePrice  _automl_split_col_7282  \n",
       "0       WD         Normal     208500                   train  \n",
       "1       WD         Normal     250000                   train  \n",
       "2       WD         Normal     307000                   train  \n",
       "3       WD         Normal     200000                   train  \n",
       "4      New        Partial     345000                   train  \n",
       "\n",
       "[5 rows x 82 columns]"
      ]
     },
     "execution_count": 3,
     "metadata": {},
     "output_type": "execute_result"
    }
   ],
   "source": [
    "import mlflow\n",
    "import os\n",
    "import uuid\n",
    "import shutil\n",
    "import pandas as pd\n",
    "\n",
    "# Create temp directory to download input data from MLflow\n",
    "input_temp_dir = os.path.join(os.environ[\"SPARK_LOCAL_DIRS\"], \"tmp\", str(uuid.uuid4())[:8])\n",
    "os.makedirs(input_temp_dir)\n",
    "\n",
    "\n",
    "# Download the artifact and read it into a pandas DataFrame\n",
    "input_data_path = mlflow.artifacts.download_artifacts(run_id=\"a9c416955dd343d8bf84f8aeabaa9c2f\", artifact_path=\"data\", dst_path=input_temp_dir)\n",
    "\n",
    "df_loaded = pd.read_parquet(os.path.join(input_data_path, \"training_data\"))\n",
    "# Delete the temp data\n",
    "shutil.rmtree(input_temp_dir)\n",
    "\n",
    "# Preview data\n",
    "df_loaded.head(5)"
   ]
  },
  {
   "cell_type": "markdown",
   "metadata": {
    "application/vnd.databricks.v1+cell": {
     "cellMetadata": {},
     "inputWidgets": {},
     "nuid": "c9da4e7c-5a3e-45cd-abbc-e8d13d0b8ba3",
     "showTitle": false,
     "title": ""
    }
   },
   "source": [
    "### Select supported columns\n",
    "Select only the columns that are supported. This allows us to train a model that can predict on a dataset that has extra columns that are not used in training.\n",
    "`[]` are dropped in the pipelines. See the Alerts tab of the AutoML Experiment page for details on why these columns are dropped."
   ]
  },
  {
   "cell_type": "code",
   "execution_count": 0,
   "metadata": {
    "application/vnd.databricks.v1+cell": {
     "cellMetadata": {},
     "inputWidgets": {},
     "nuid": "bf500e71-febb-49cf-9d33-87520bca1e2e",
     "showTitle": false,
     "title": ""
    },
    "execution": {
     "iopub.execute_input": "2024-03-03T16:35:32.035394Z",
     "iopub.status.busy": "2024-03-03T16:35:32.034785Z",
     "iopub.status.idle": "2024-03-03T16:35:32.773670Z",
     "shell.execute_reply": "2024-03-03T16:35:32.772859Z"
    }
   },
   "outputs": [],
   "source": [
    "from databricks.automl_runtime.sklearn.column_selector import ColumnSelector\n",
    "supported_cols = [\"MSSubClass\", \"GarageCond\", \"Heating\", \"Fireplaces\", \"Condition1\", \"SaleType\", \"BsmtUnfSF\", \"HouseStyle\", \"TotalBsmtSF\", \"PoolQC\", \"MasVnrArea\", \"YrSold\", \"GarageCars\", \"YearBuilt\", \"LotShape\", \"BsmtQual\", \"GarageType\", \"KitchenQual\", \"LandSlope\", \"1stFlrSF\", \"YearRemodAdd\", \"Functional\", \"OpenPorchSF\", \"2ndFlrSF\", \"PoolArea\", \"HeatingQC\", \"BsmtFinType2\", \"Electrical\", \"BsmtFinType1\", \"GarageArea\", \"BsmtExposure\", \"ExterQual\", \"LotConfig\", \"SaleCondition\", \"MoSold\", \"Neighborhood\", \"RoofStyle\", \"LandContour\", \"Exterior1st\", \"MasVnrType\", \"3SsnPorch\", \"GarageQual\", \"BsmtHalfBath\", \"FullBath\", \"ExterCond\", \"FireplaceQu\", \"GarageFinish\", \"Condition2\", \"OverallQual\", \"LotArea\", \"ScreenPorch\", \"Utilities\", \"Foundation\", \"BedroomAbvGr\", \"RoofMatl\", \"Fence\", \"BsmtCond\", \"MiscFeature\", \"MiscVal\", \"TotRmsAbvGrd\", \"MSZoning\", \"LotFrontage\", \"WoodDeckSF\", \"Id\", \"BsmtFinSF1\", \"BsmtFinSF2\", \"Exterior2nd\", \"HalfBath\", \"Street\", \"PavedDrive\", \"GrLivArea\", \"BsmtFullBath\", \"LowQualFinSF\", \"BldgType\", \"GarageYrBlt\", \"KitchenAbvGr\", \"Alley\", \"OverallCond\", \"CentralAir\", \"EnclosedPorch\"]\n",
    "col_selector = ColumnSelector(supported_cols)"
   ]
  },
  {
   "cell_type": "markdown",
   "metadata": {
    "application/vnd.databricks.v1+cell": {
     "cellMetadata": {},
     "inputWidgets": {},
     "nuid": "acc5a253-0c40-4875-a250-0d3ca0bb76ce",
     "showTitle": false,
     "title": ""
    }
   },
   "source": [
    "## Preprocessors"
   ]
  },
  {
   "cell_type": "markdown",
   "metadata": {
    "application/vnd.databricks.v1+cell": {
     "cellMetadata": {},
     "inputWidgets": {},
     "nuid": "83343e31-4f35-4338-ac37-00f360149859",
     "showTitle": false,
     "title": ""
    }
   },
   "source": [
    "### Datetime Preprocessor\n",
    "For each datetime column, extract relevant information from the date:\n",
    "- Unix timestamp\n",
    "- whether the date is a weekend\n",
    "- whether the date is a holiday\n",
    "\n",
    "Additionally, extract extra information from columns with timestamps:\n",
    "- hour of the day (one-hot encoded)\n",
    "\n",
    "For cyclic features, plot the values along a unit circle to encode temporal proximity:\n",
    "- hour of the day\n",
    "- hours since the beginning of the week\n",
    "- hours since the beginning of the month\n",
    "- hours since the beginning of the year"
   ]
  },
  {
   "cell_type": "code",
   "execution_count": 0,
   "metadata": {
    "application/vnd.databricks.v1+cell": {
     "cellMetadata": {},
     "inputWidgets": {},
     "nuid": "504aa862-b7cf-411f-b90a-4c55628413f1",
     "showTitle": false,
     "title": ""
    },
    "execution": {
     "iopub.execute_input": "2024-03-03T16:35:32.783827Z",
     "iopub.status.busy": "2024-03-03T16:35:32.783131Z",
     "iopub.status.idle": "2024-03-03T16:35:32.790659Z",
     "shell.execute_reply": "2024-03-03T16:35:32.789634Z"
    }
   },
   "outputs": [],
   "source": [
    "from pandas import Timestamp\n",
    "from sklearn.compose import ColumnTransformer\n",
    "from sklearn.pipeline import Pipeline\n",
    "\n",
    "from databricks.automl_runtime.sklearn import DatetimeImputer\n",
    "from databricks.automl_runtime.sklearn import OneHotEncoder\n",
    "from databricks.automl_runtime.sklearn import TimestampTransformer\n",
    "from sklearn.preprocessing import StandardScaler\n",
    "\n",
    "imputers = {\n",
    "  \"GarageYrBlt\": DatetimeImputer(),\n",
    "}\n",
    "\n",
    "datetime_transformers = []\n",
    "\n",
    "for col in [\"GarageYrBlt\"]:\n",
    "    ohe_transformer = ColumnTransformer(\n",
    "        [(\"ohe\", OneHotEncoder(sparse=False, handle_unknown=\"indicator\"), [TimestampTransformer.HOUR_COLUMN_INDEX])],\n",
    "        remainder=\"passthrough\")\n",
    "    timestamp_preprocessor = Pipeline([\n",
    "        (f\"impute_{col}\", imputers[col]),\n",
    "        (f\"transform_{col}\", TimestampTransformer()),\n",
    "        (f\"onehot_encode_{col}\", ohe_transformer),\n",
    "        (f\"standardize_{col}\", StandardScaler()),\n",
    "    ])\n",
    "    datetime_transformers.append((f\"timestamp_{col}\", timestamp_preprocessor, [col]))"
   ]
  },
  {
   "cell_type": "markdown",
   "metadata": {
    "application/vnd.databricks.v1+cell": {
     "cellMetadata": {},
     "inputWidgets": {},
     "nuid": "d31e46b8-0a7f-41d2-889e-8d9ab072a5b0",
     "showTitle": false,
     "title": ""
    }
   },
   "source": [
    "### Boolean columns\n",
    "For each column, impute missing values and then convert into ones and zeros."
   ]
  },
  {
   "cell_type": "code",
   "execution_count": 0,
   "metadata": {
    "application/vnd.databricks.v1+cell": {
     "cellMetadata": {},
     "inputWidgets": {},
     "nuid": "611f679d-222d-490b-9580-6c87a8915668",
     "showTitle": false,
     "title": ""
    },
    "execution": {
     "iopub.execute_input": "2024-03-03T16:35:32.794390Z",
     "iopub.status.busy": "2024-03-03T16:35:32.793935Z",
     "iopub.status.idle": "2024-03-03T16:35:32.801865Z",
     "shell.execute_reply": "2024-03-03T16:35:32.801350Z"
    }
   },
   "outputs": [],
   "source": [
    "from sklearn.compose import ColumnTransformer\n",
    "from sklearn.impute import SimpleImputer\n",
    "from sklearn.pipeline import Pipeline\n",
    "from sklearn.preprocessing import FunctionTransformer\n",
    "from sklearn.preprocessing import OneHotEncoder as SklearnOneHotEncoder\n",
    "\n",
    "\n",
    "bool_imputers = []\n",
    "\n",
    "bool_pipeline = Pipeline(steps=[\n",
    "    (\"cast_type\", FunctionTransformer(lambda df: df.astype(object))),\n",
    "    (\"imputers\", ColumnTransformer(bool_imputers, remainder=\"passthrough\")),\n",
    "    (\"onehot\", SklearnOneHotEncoder(handle_unknown=\"ignore\", drop=\"first\")),\n",
    "])\n",
    "\n",
    "bool_transformers = [(\"boolean\", bool_pipeline, [\"Street\", \"CentralAir\", \"Utilities\"])]"
   ]
  },
  {
   "cell_type": "markdown",
   "metadata": {
    "application/vnd.databricks.v1+cell": {
     "cellMetadata": {},
     "inputWidgets": {},
     "nuid": "6b5195a3-6405-48d5-b77e-caf1cd159bfe",
     "showTitle": false,
     "title": ""
    }
   },
   "source": [
    "### Numerical columns\n",
    "\n",
    "Missing values for numerical columns are imputed with mean by default."
   ]
  },
  {
   "cell_type": "code",
   "execution_count": 0,
   "metadata": {
    "application/vnd.databricks.v1+cell": {
     "cellMetadata": {},
     "inputWidgets": {},
     "nuid": "9ca0fede-bcb7-4551-8f80-2ef19a2bebfe",
     "showTitle": false,
     "title": ""
    },
    "execution": {
     "iopub.execute_input": "2024-03-03T16:35:32.806409Z",
     "iopub.status.busy": "2024-03-03T16:35:32.805308Z",
     "iopub.status.idle": "2024-03-03T16:35:32.814793Z",
     "shell.execute_reply": "2024-03-03T16:35:32.814217Z"
    }
   },
   "outputs": [],
   "source": [
    "from sklearn.compose import ColumnTransformer\n",
    "from sklearn.impute import SimpleImputer\n",
    "from sklearn.pipeline import Pipeline\n",
    "from sklearn.preprocessing import FunctionTransformer, StandardScaler\n",
    "\n",
    "num_imputers = []\n",
    "num_imputers.append((\"impute_mean\", SimpleImputer(), [\"1stFlrSF\", \"2ndFlrSF\", \"3SsnPorch\", \"BedroomAbvGr\", \"BsmtFinSF1\", \"BsmtFinSF2\", \"BsmtFullBath\", \"BsmtHalfBath\", \"BsmtUnfSF\", \"EnclosedPorch\", \"Fireplaces\", \"FullBath\", \"GarageArea\", \"GarageCars\", \"GrLivArea\", \"HalfBath\", \"Id\", \"KitchenAbvGr\", \"LotArea\", \"LowQualFinSF\", \"MSSubClass\", \"MasVnrArea\", \"MiscVal\", \"MoSold\", \"OpenPorchSF\", \"OverallCond\", \"OverallQual\", \"PoolArea\", \"ScreenPorch\", \"TotRmsAbvGrd\", \"TotalBsmtSF\", \"WoodDeckSF\", \"YearBuilt\", \"YearRemodAdd\", \"YrSold\"]))\n",
    "\n",
    "numerical_pipeline = Pipeline(steps=[\n",
    "    (\"converter\", FunctionTransformer(lambda df: df.apply(pd.to_numeric, errors='coerce'))),\n",
    "    (\"imputers\", ColumnTransformer(num_imputers)),\n",
    "    (\"standardizer\", StandardScaler()),\n",
    "])\n",
    "\n",
    "numerical_transformers = [(\"numerical\", numerical_pipeline, [\"MSSubClass\", \"PoolArea\", \"Fireplaces\", \"OverallQual\", \"LotArea\", \"GrLivArea\", \"ScreenPorch\", \"BsmtFullBath\", \"BsmtUnfSF\", \"LowQualFinSF\", \"TotalBsmtSF\", \"MasVnrArea\", \"YrSold\", \"GarageCars\", \"GarageArea\", \"BedroomAbvGr\", \"KitchenAbvGr\", \"MoSold\", \"YearBuilt\", \"MiscVal\", \"TotRmsAbvGrd\", \"OverallCond\", \"WoodDeckSF\", \"3SsnPorch\", \"Id\", \"BsmtFinSF1\", \"1stFlrSF\", \"BsmtHalfBath\", \"BsmtFinSF2\", \"FullBath\", \"YearRemodAdd\", \"HalfBath\", \"EnclosedPorch\", \"OpenPorchSF\", \"2ndFlrSF\"])]"
   ]
  },
  {
   "cell_type": "markdown",
   "metadata": {
    "application/vnd.databricks.v1+cell": {
     "cellMetadata": {},
     "inputWidgets": {},
     "nuid": "3fcf2824-86e9-42be-a3df-878acef4d7af",
     "showTitle": false,
     "title": ""
    }
   },
   "source": [
    "### Categorical columns"
   ]
  },
  {
   "cell_type": "markdown",
   "metadata": {
    "application/vnd.databricks.v1+cell": {
     "cellMetadata": {},
     "inputWidgets": {},
     "nuid": "e6f43af8-e10e-41d2-b997-aeda8f77593f",
     "showTitle": false,
     "title": ""
    }
   },
   "source": [
    "#### Low-cardinality categoricals\n",
    "Convert each low-cardinality categorical column into multiple binary columns through one-hot encoding.\n",
    "For each input categorical column (string or numeric), the number of output columns is equal to the number of unique values in the input column."
   ]
  },
  {
   "cell_type": "code",
   "execution_count": 0,
   "metadata": {
    "application/vnd.databricks.v1+cell": {
     "cellMetadata": {},
     "inputWidgets": {},
     "nuid": "70b31d50-7d89-4ea0-83fa-af5c4b0b3bae",
     "showTitle": false,
     "title": ""
    },
    "execution": {
     "iopub.execute_input": "2024-03-03T16:35:32.819552Z",
     "iopub.status.busy": "2024-03-03T16:35:32.818427Z",
     "iopub.status.idle": "2024-03-03T16:35:32.826265Z",
     "shell.execute_reply": "2024-03-03T16:35:32.825609Z"
    }
   },
   "outputs": [],
   "source": [
    "from databricks.automl_runtime.sklearn import OneHotEncoder\n",
    "from sklearn.compose import ColumnTransformer\n",
    "from sklearn.impute import SimpleImputer\n",
    "from sklearn.pipeline import Pipeline\n",
    "\n",
    "one_hot_imputers = []\n",
    "\n",
    "one_hot_pipeline = Pipeline(steps=[\n",
    "    (\"imputers\", ColumnTransformer(one_hot_imputers, remainder=\"passthrough\")),\n",
    "    (\"one_hot_encoder\", OneHotEncoder(handle_unknown=\"indicator\")),\n",
    "])\n",
    "\n",
    "categorical_one_hot_transformers = [(\"onehot\", one_hot_pipeline, [\"Alley\", \"BedroomAbvGr\", \"BldgType\", \"BsmtCond\", \"BsmtExposure\", \"BsmtFinType1\", \"BsmtFinType2\", \"BsmtFullBath\", \"BsmtHalfBath\", \"BsmtQual\", \"Condition1\", \"Condition2\", \"Electrical\", \"ExterCond\", \"ExterQual\", \"Exterior1st\", \"Exterior2nd\", \"Fence\", \"FireplaceQu\", \"Fireplaces\", \"Foundation\", \"FullBath\", \"Functional\", \"GarageCars\", \"GarageCond\", \"GarageFinish\", \"GarageQual\", \"GarageType\", \"HalfBath\", \"Heating\", \"HeatingQC\", \"HouseStyle\", \"KitchenAbvGr\", \"KitchenQual\", \"LandContour\", \"LandSlope\", \"LotConfig\", \"LotFrontage\", \"LotShape\", \"MSZoning\", \"MasVnrType\", \"MiscFeature\", \"MoSold\", \"Neighborhood\", \"OverallCond\", \"OverallQual\", \"PavedDrive\", \"PoolArea\", \"PoolQC\", \"RoofMatl\", \"RoofStyle\", \"SaleCondition\", \"SaleType\", \"TotRmsAbvGrd\", \"YrSold\"])]"
   ]
  },
  {
   "cell_type": "code",
   "execution_count": 0,
   "metadata": {
    "application/vnd.databricks.v1+cell": {
     "cellMetadata": {},
     "inputWidgets": {},
     "nuid": "e4a0d8d3-fa77-4826-90ba-0a89fbedcd94",
     "showTitle": false,
     "title": ""
    },
    "execution": {
     "iopub.execute_input": "2024-03-03T16:35:32.830690Z",
     "iopub.status.busy": "2024-03-03T16:35:32.829596Z",
     "iopub.status.idle": "2024-03-03T16:35:32.834672Z",
     "shell.execute_reply": "2024-03-03T16:35:32.834178Z"
    }
   },
   "outputs": [],
   "source": [
    "from sklearn.compose import ColumnTransformer\n",
    "\n",
    "transformers = datetime_transformers + bool_transformers + numerical_transformers + categorical_one_hot_transformers\n",
    "\n",
    "preprocessor = ColumnTransformer(transformers, remainder=\"passthrough\", sparse_threshold=1)"
   ]
  },
  {
   "cell_type": "markdown",
   "metadata": {
    "application/vnd.databricks.v1+cell": {
     "cellMetadata": {},
     "inputWidgets": {},
     "nuid": "bc64f24f-ef8b-41e3-b619-fac8cd532fc0",
     "showTitle": false,
     "title": ""
    }
   },
   "source": [
    "## Train - Validation - Test Split\n",
    "The input data is split by AutoML into 3 sets:\n",
    "- Train (60% of the dataset used to train the model)\n",
    "- Validation (20% of the dataset used to tune the hyperparameters of the model)\n",
    "- Test (20% of the dataset used to report the true performance of the model on an unseen dataset)\n",
    "\n",
    "`_automl_split_col_7282` contains the information of which set a given row belongs to.\n",
    "We use this column to split the dataset into the above 3 sets. \n",
    "The column should not be used for training so it is dropped after split is done."
   ]
  },
  {
   "cell_type": "code",
   "execution_count": 0,
   "metadata": {
    "application/vnd.databricks.v1+cell": {
     "cellMetadata": {},
     "inputWidgets": {},
     "nuid": "aabbcb82-0464-4112-affb-0ba2ed6a0bc9",
     "showTitle": false,
     "title": ""
    },
    "execution": {
     "iopub.execute_input": "2024-03-03T16:35:32.839043Z",
     "iopub.status.busy": "2024-03-03T16:35:32.837960Z",
     "iopub.status.idle": "2024-03-03T16:35:32.851736Z",
     "shell.execute_reply": "2024-03-03T16:35:32.851046Z"
    }
   },
   "outputs": [],
   "source": [
    "# AutoML completed train - validation - test split internally and used _automl_split_col_7282 to specify the set\n",
    "split_train_df = df_loaded.loc[df_loaded._automl_split_col_7282 == \"train\"]\n",
    "split_val_df = df_loaded.loc[df_loaded._automl_split_col_7282 == \"val\"]\n",
    "split_test_df = df_loaded.loc[df_loaded._automl_split_col_7282 == \"test\"]\n",
    "\n",
    "# Separate target column from features and drop _automl_split_col_7282\n",
    "X_train = split_train_df.drop([target_col, \"_automl_split_col_7282\"], axis=1)\n",
    "y_train = split_train_df[target_col]\n",
    "\n",
    "X_val = split_val_df.drop([target_col, \"_automl_split_col_7282\"], axis=1)\n",
    "y_val = split_val_df[target_col]\n",
    "\n",
    "X_test = split_test_df.drop([target_col, \"_automl_split_col_7282\"], axis=1)\n",
    "y_test = split_test_df[target_col]"
   ]
  },
  {
   "cell_type": "markdown",
   "metadata": {
    "application/vnd.databricks.v1+cell": {
     "cellMetadata": {},
     "inputWidgets": {},
     "nuid": "55a91e31-cb55-4460-9853-72cb3798ad12",
     "showTitle": false,
     "title": ""
    }
   },
   "source": [
    "## Train regression model\n",
    "- Log relevant metrics to MLflow to track runs\n",
    "- All the runs are logged under [this MLflow experiment](#mlflow/experiments/871067855356899)\n",
    "- Change the model parameters and re-run the training cell to log a different trial to the MLflow experiment\n",
    "- To view the full list of tunable hyperparameters, check the output of the cell below"
   ]
  },
  {
   "cell_type": "code",
   "execution_count": 0,
   "metadata": {
    "application/vnd.databricks.v1+cell": {
     "cellMetadata": {},
     "inputWidgets": {},
     "nuid": "44c96254-fb91-4fad-8ce0-69077047f754",
     "showTitle": false,
     "title": ""
    },
    "execution": {
     "iopub.execute_input": "2024-03-03T16:35:32.856610Z",
     "iopub.status.busy": "2024-03-03T16:35:32.855464Z",
     "iopub.status.idle": "2024-03-03T16:35:32.892024Z",
     "shell.execute_reply": "2024-03-03T16:35:32.890846Z"
    }
   },
   "outputs": [
    {
     "output_type": "stream",
     "name": "stdout",
     "output_type": "stream",
     "text": [
      "Help on class XGBRegressor in module xgboost.sklearn:\n\nclass XGBRegressor(XGBModel, sklearn.base.RegressorMixin)\n |  XGBRegressor(*, objective: Union[str, Callable[[numpy.ndarray, numpy.ndarray], Tuple[numpy.ndarray, numpy.ndarray]], NoneType] = 'reg:squarederror', **kwargs: Any) -> None\n |  \n |  Implementation of the scikit-learn API for XGBoost regression.\n |  \n |  \n |  Parameters\n |  ----------\n |  \n |      n_estimators : int\n |          Number of gradient boosted trees.  Equivalent to number of boosting\n |          rounds.\n |  \n |      max_depth :  Optional[int]\n |          Maximum tree depth for base learners.\n |      max_leaves :\n |          Maximum number of leaves; 0 indicates no limit.\n |      max_bin :\n |          If using histogram-based algorithm, maximum number of bins per feature\n |      grow_policy :\n |          Tree growing policy. 0: favor splitting at nodes closest to the node, i.e. grow\n |          depth-wise. 1: favor splitting at nodes with highest loss change.\n |      learning_rate : Optional[float]\n |          Boosting learning rate (xgb's \"eta\")\n |      verbosity : Optional[int]\n |          The degree of verbosity. Valid values are 0 (silent) - 3 (debug).\n |      objective : typing.Union[str, typing.Callable[[numpy.ndarray, numpy.ndarray], typing.Tuple[numpy.ndarray, numpy.ndarray]], NoneType]\n |          Specify the learning task and the corresponding learning objective or\n |          a custom objective function to be used (see note below).\n |      booster: Optional[str]\n |          Specify which booster to use: gbtree, gblinear or dart.\n |      tree_method: Optional[str]\n |          Specify which tree method to use.  Default to auto.  If this parameter is set to\n |          default, XGBoost will choose the most conservative option available.  It's\n |          recommended to study this option from the parameters document :doc:`tree method\n |          </treemethod>`\n |      n_jobs : Optional[int]\n |          Number of parallel threads used to run xgboost.  When used with other\n |          Scikit-Learn algorithms like grid search, you may choose which algorithm to\n |          parallelize and balance the threads.  Creating thread contention will\n |          significantly slow down both algorithms.\n |      gamma : Optional[float]\n |          (min_split_loss) Minimum loss reduction required to make a further partition on a\n |          leaf node of the tree.\n |      min_child_weight : Optional[float]\n |          Minimum sum of instance weight(hessian) needed in a child.\n |      max_delta_step : Optional[float]\n |          Maximum delta step we allow each tree's weight estimation to be.\n |      subsample : Optional[float]\n |          Subsample ratio of the training instance.\n |      sampling_method :\n |          Sampling method. Used only by `gpu_hist` tree method.\n |            - `uniform`: select random training instances uniformly.\n |            - `gradient_based` select random training instances with higher probability when\n |              the gradient and hessian are larger. (cf. CatBoost)\n |      colsample_bytree : Optional[float]\n |          Subsample ratio of columns when constructing each tree.\n |      colsample_bylevel : Optional[float]\n |          Subsample ratio of columns for each level.\n |      colsample_bynode : Optional[float]\n |          Subsample ratio of columns for each split.\n |      reg_alpha : Optional[float]\n |          L1 regularization term on weights (xgb's alpha).\n |      reg_lambda : Optional[float]\n |          L2 regularization term on weights (xgb's lambda).\n |      scale_pos_weight : Optional[float]\n |          Balancing of positive and negative weights.\n |      base_score : Optional[float]\n |          The initial prediction score of all instances, global bias.\n |      random_state : Optional[Union[numpy.random.RandomState, int]]\n |          Random number seed.\n |  \n |          .. note::\n |  \n |             Using gblinear booster with shotgun updater is nondeterministic as\n |             it uses Hogwild algorithm.\n |  \n |      missing : float, default np.nan\n |          Value in the data which needs to be present as a missing value.\n |      num_parallel_tree: Optional[int]\n |          Used for boosting random forest.\n |      monotone_constraints : Optional[Union[Dict[str, int], str]]\n |          Constraint of variable monotonicity.  See :doc:`tutorial </tutorials/monotonic>`\n |          for more information.\n |      interaction_constraints : Optional[Union[str, List[Tuple[str]]]]\n |          Constraints for interaction representing permitted interactions.  The\n |          constraints must be specified in the form of a nested list, e.g. ``[[0, 1], [2,\n |          3, 4]]``, where each inner list is a group of indices of features that are\n |          allowed to interact with each other.  See :doc:`tutorial\n |          </tutorials/feature_interaction_constraint>` for more information\n |      importance_type: Optional[str]\n |          The feature importance type for the feature_importances\\_ property:\n |  \n |          * For tree model, it's either \"gain\", \"weight\", \"cover\", \"total_gain\" or\n |            \"total_cover\".\n |          * For linear model, only \"weight\" is defined and it's the normalized coefficients\n |            without bias.\n |  \n |      gpu_id : Optional[int]\n |          Device ordinal.\n |      validate_parameters : Optional[bool]\n |          Give warnings for unknown parameter.\n |      predictor : Optional[str]\n |          Force XGBoost to use specific predictor, available choices are [cpu_predictor,\n |          gpu_predictor].\n |      enable_categorical : bool\n |  \n |          .. versionadded:: 1.5.0\n |  \n |          .. note:: This parameter is experimental\n |  \n |          Experimental support for categorical data.  When enabled, cudf/pandas.DataFrame\n |          should be used to specify categorical data type.  Also, JSON/UBJSON\n |          serialization format is required.\n |  \n |      feature_types : FeatureTypes\n |  \n |          .. versionadded:: 1.7.0\n |  \n |          Used for specifying feature types without constructing a dataframe. See\n |          :py:class:`DMatrix` for details.\n |  \n |      max_cat_to_onehot : Optional[int]\n |  \n |          .. versionadded:: 1.6.0\n |  \n |          .. note:: This parameter is experimental\n |  \n |          A threshold for deciding whether XGBoost should use one-hot encoding based split\n |          for categorical data.  When number of categories is lesser than the threshold\n |          then one-hot encoding is chosen, otherwise the categories will be partitioned\n |          into children nodes. Also, `enable_categorical` needs to be set to have\n |          categorical feature support. See :doc:`Categorical Data\n |          </tutorials/categorical>` and :ref:`cat-param` for details.\n |  \n |      max_cat_threshold : Optional[int]\n |  \n |          .. versionadded:: 1.7.0\n |  \n |          .. note:: This parameter is experimental\n |  \n |          Maximum number of categories considered for each split. Used only by\n |          partition-based splits for preventing over-fitting. Also, `enable_categorical`\n |          needs to be set to have categorical feature support. See :doc:`Categorical Data\n |          </tutorials/categorical>` and :ref:`cat-param` for details.\n |  \n |      eval_metric : Optional[Union[str, List[str], Callable]]\n |  \n |          .. versionadded:: 1.6.0\n |  \n |          Metric used for monitoring the training result and early stopping.  It can be a\n |          string or list of strings as names of predefined metric in XGBoost (See\n |          doc/parameter.rst), one of the metrics in :py:mod:`sklearn.metrics`, or any other\n |          user defined metric that looks like `sklearn.metrics`.\n |  \n |          If custom objective is also provided, then custom metric should implement the\n |          corresponding reverse link function.\n |  \n |          Unlike the `scoring` parameter commonly used in scikit-learn, when a callable\n |          object is provided, it's assumed to be a cost function and by default XGBoost will\n |          minimize the result during early stopping.\n |  \n |          For advanced usage on Early stopping like directly choosing to maximize instead of\n |          minimize, see :py:obj:`xgboost.callback.EarlyStopping`.\n |  \n |          See :doc:`Custom Objective and Evaluation Metric </tutorials/custom_metric_obj>`\n |          for more.\n |  \n |          .. note::\n |  \n |               This parameter replaces `eval_metric` in :py:meth:`fit` method.  The old one\n |               receives un-transformed prediction regardless of whether custom objective is\n |               being used.\n |  \n |          .. code-block:: python\n |  \n |              from sklearn.datasets import load_diabetes\n |              from sklearn.metrics import mean_absolute_error\n |              X, y = load_diabetes(return_X_y=True)\n |              reg = xgb.XGBRegressor(\n |                  tree_method=\"hist\",\n |                  eval_metric=mean_absolute_error,\n |              )\n |              reg.fit(X, y, eval_set=[(X, y)])\n |  \n |      early_stopping_rounds : Optional[int]\n |  \n |          .. versionadded:: 1.6.0\n |  \n |          Activates early stopping. Validation metric needs to improve at least once in\n |          every **early_stopping_rounds** round(s) to continue training.  Requires at least\n |          one item in **eval_set** in :py:meth:`fit`.\n |  \n |          The method returns the model from the last iteration (not the best one).  If\n |          there's more than one item in **eval_set**, the last entry will be used for early\n |          stopping.  If there's more than one metric in **eval_metric**, the last metric\n |          will be used for early stopping.\n |  \n |          If early stopping occurs, the model will have three additional fields:\n |          :py:attr:`best_score`, :py:attr:`best_iteration` and\n |          :py:attr:`best_ntree_limit`.\n |  \n |          .. note::\n |  \n |              This parameter replaces `early_stopping_rounds` in :py:meth:`fit` method.\n |  \n |      callbacks : Optional[List[TrainingCallback]]\n |          List of callback functions that are applied at end of each iteration.\n |          It is possible to use predefined callbacks by using\n |          :ref:`Callback API <callback_api>`.\n |  \n |          .. note::\n |  \n |             States in callback are not preserved during training, which means callback\n |             objects can not be reused for multiple training sessions without\n |             reinitialization or deepcopy.\n |  \n |          .. code-block:: python\n |  \n |              for params in parameters_grid:\n |                  # be sure to (re)initialize the callbacks before each run\n |                  callbacks = [xgb.callback.LearningRateScheduler(custom_rates)]\n |                  xgboost.train(params, Xy, callbacks=callbacks)\n |  \n |      kwargs : dict, optional\n |          Keyword arguments for XGBoost Booster object.  Full documentation of parameters\n |          can be found :doc:`here </parameter>`.\n |          Attempting to set a parameter via the constructor args and \\*\\*kwargs\n |          dict simultaneously will result in a TypeError.\n |  \n |          .. note:: \\*\\*kwargs unsupported by scikit-learn\n |  \n |              \\*\\*kwargs is unsupported by scikit-learn.  We do not guarantee\n |              that parameters passed via this argument will interact properly\n |              with scikit-learn.\n |  \n |          .. note::  Custom objective function\n |  \n |              A custom objective function can be provided for the ``objective``\n |              parameter. In this case, it should have the signature\n |              ``objective(y_true, y_pred) -> grad, hess``:\n |  \n |              y_true: array_like of shape [n_samples]\n |                  The target values\n |              y_pred: array_like of shape [n_samples]\n |                  The predicted values\n |  \n |              grad: array_like of shape [n_samples]\n |                  The value of the gradient for each sample point.\n |              hess: array_like of shape [n_samples]\n |                  The value of the second derivative for each sample point\n |  \n |  Method resolution order:\n |      XGBRegressor\n |      XGBModel\n |      sklearn.base.BaseEstimator\n |      sklearn.base.RegressorMixin\n |      builtins.object\n |  \n |  Methods defined here:\n |  \n |  __init__(self, *, objective: Union[str, Callable[[numpy.ndarray, numpy.ndarray], Tuple[numpy.ndarray, numpy.ndarray]], NoneType] = 'reg:squarederror', **kwargs: Any) -> None\n |      Initialize self.  See help(type(self)) for accurate signature.\n |  \n |  ----------------------------------------------------------------------\n |  Methods inherited from XGBModel:\n |  \n |  __sklearn_is_fitted__(self) -> bool\n |  \n |  apply(self, X: Any, ntree_limit: int = 0, iteration_range: Optional[Tuple[int, int]] = None) -> numpy.ndarray\n |      Return the predicted leaf every tree for each sample. If the model is trained with\n |      early stopping, then `best_iteration` is used automatically.\n |      \n |      Parameters\n |      ----------\n |      X : array_like, shape=[n_samples, n_features]\n |          Input features matrix.\n |      \n |      iteration_range :\n |          See :py:meth:`predict`.\n |      \n |      ntree_limit :\n |          Deprecated, use ``iteration_range`` instead.\n |      \n |      Returns\n |      -------\n |      X_leaves : array_like, shape=[n_samples, n_trees]\n |          For each datapoint x in X and for each tree, return the index of the\n |          leaf x ends up in. Leaves are numbered within\n |          ``[0; 2**(self.max_depth+1))``, possibly with gaps in the numbering.\n |  \n |  evals_result(self) -> Dict[str, Dict[str, List[float]]]\n |      Return the evaluation results.\n |      \n |      If **eval_set** is passed to the :py:meth:`fit` function, you can call\n |      ``evals_result()`` to get evaluation results for all passed **eval_sets**.  When\n |      **eval_metric** is also passed to the :py:meth:`fit` function, the\n |      **evals_result** will contain the **eval_metrics** passed to the :py:meth:`fit`\n |      function.\n |      \n |      The returned evaluation result is a dictionary:\n |      \n |      .. code-block:: python\n |      \n |          {'validation_0': {'logloss': ['0.604835', '0.531479']},\n |           'validation_1': {'logloss': ['0.41965', '0.17686']}}\n |      \n |      Returns\n |      -------\n |      evals_result\n |  \n |  fit(self, X: Any, y: Any, *, sample_weight: Optional[Any] = None, base_margin: Optional[Any] = None, eval_set: Optional[Sequence[Tuple[Any, Any]]] = None, eval_metric: Union[str, Sequence[str], Callable[[numpy.ndarray, xgboost.core.DMatrix], Tuple[str, float]], NoneType] = None, early_stopping_rounds: Optional[int] = None, verbose: Union[bool, int, NoneType] = True, xgb_model: Union[xgboost.core.Booster, ForwardRef('XGBModel'), str, NoneType] = None, sample_weight_eval_set: Optional[Sequence[Any]] = None, base_margin_eval_set: Optional[Sequence[Any]] = None, feature_weights: Optional[Any] = None, callbacks: Optional[Sequence[xgboost.callback.TrainingCallback]] = None) -> 'XGBModel'\n |      Fit gradient boosting model.\n |      \n |      Note that calling ``fit()`` multiple times will cause the model object to be\n |      re-fit from scratch. To resume training from a previous checkpoint, explicitly\n |      pass ``xgb_model`` argument.\n |      \n |      Parameters\n |      ----------\n |      X :\n |          Feature matrix\n |      y :\n |          Labels\n |      sample_weight :\n |          instance weights\n |      base_margin :\n |          global bias for each instance.\n |      eval_set :\n |          A list of (X, y) tuple pairs to use as validation sets, for which\n |          metrics will be computed.\n |          Validation metrics will help us track the performance of the model.\n |      \n |      eval_metric : str, list of str, or callable, optional\n |          .. deprecated:: 1.6.0\n |              Use `eval_metric` in :py:meth:`__init__` or :py:meth:`set_params` instead.\n |      \n |      early_stopping_rounds : int\n |          .. deprecated:: 1.6.0\n |              Use `early_stopping_rounds` in :py:meth:`__init__` or\n |              :py:meth:`set_params` instead.\n |      verbose :\n |          If `verbose` is True and an evaluation set is used, the evaluation metric\n |          measured on the validation set is printed to stdout at each boosting stage.\n |          If `verbose` is an integer, the evaluation metric is printed at each `verbose`\n |          boosting stage. The last boosting stage / the boosting stage found by using\n |          `early_stopping_rounds` is also printed.\n |      xgb_model :\n |          file name of stored XGBoost model or 'Booster' instance XGBoost model to be\n |          loaded before training (allows training continuation).\n |      sample_weight_eval_set :\n |          A list of the form [L_1, L_2, ..., L_n], where each L_i is an array like\n |          object storing instance weights for the i-th validation set.\n |      base_margin_eval_set :\n |          A list of the form [M_1, M_2, ..., M_n], where each M_i is an array like\n |          object storing base margin for the i-th validation set.\n |      feature_weights :\n |          Weight for each feature, defines the probability of each feature being\n |          selected when colsample is being used.  All values must be greater than 0,\n |          otherwise a `ValueError` is thrown.\n |      \n |      callbacks :\n |          .. deprecated:: 1.6.0\n |              Use `callbacks` in :py:meth:`__init__` or :py:meth:`set_params` instead.\n |  \n |  get_booster(self) -> xgboost.core.Booster\n |      Get the underlying xgboost Booster of this model.\n |      \n |      This will raise an exception when fit was not called\n |      \n |      Returns\n |      -------\n |      booster : a xgboost booster of underlying model\n |  \n |  get_num_boosting_rounds(self) -> int\n |      Gets the number of xgboost boosting rounds.\n |  \n |  get_params(self, deep: bool = True) -> Dict[str, Any]\n |      Get parameters.\n |  \n |  get_xgb_params(self) -> Dict[str, Any]\n |      Get xgboost specific parameters.\n |  \n |  load_model(self, fname: Union[str, bytearray, os.PathLike]) -> None\n |      Load the model from a file or bytearray. Path to file can be local\n |      or as an URI.\n |      \n |      The model is loaded from XGBoost format which is universal among the various\n |      XGBoost interfaces. Auxiliary attributes of the Python Booster object (such as\n |      feature_names) will not be loaded when using binary format.  To save those\n |      attributes, use JSON/UBJ instead.  See :doc:`Model IO </tutorials/saving_model>`\n |      for more info.\n |      \n |      .. code-block:: python\n |      \n |        model.load_model(\"model.json\")\n |        # or\n |        model.load_model(\"model.ubj\")\n |      \n |      Parameters\n |      ----------\n |      fname :\n |          Input file name or memory buffer(see also save_raw)\n |  \n |  predict(self, X: Any, output_margin: bool = False, ntree_limit: Optional[int] = None, validate_features: bool = True, base_margin: Optional[Any] = None, iteration_range: Optional[Tuple[int, int]] = None) -> numpy.ndarray\n |      Predict with `X`.  If the model is trained with early stopping, then `best_iteration`\n |      is used automatically.  For tree models, when data is on GPU, like cupy array or\n |      cuDF dataframe and `predictor` is not specified, the prediction is run on GPU\n |      automatically, otherwise it will run on CPU.\n |      \n |      .. note:: This function is only thread safe for `gbtree` and `dart`.\n |      \n |      Parameters\n |      ----------\n |      X :\n |          Data to predict with.\n |      output_margin :\n |          Whether to output the raw untransformed margin value.\n |      ntree_limit :\n |          Deprecated, use `iteration_range` instead.\n |      validate_features :\n |          When this is True, validate that the Booster's and data's feature_names are\n |          identical.  Otherwise, it is assumed that the feature_names are the same.\n |      base_margin :\n |          Margin added to prediction.\n |      iteration_range :\n |          Specifies which layer of trees are used in prediction.  For example, if a\n |          random forest is trained with 100 rounds.  Specifying ``iteration_range=(10,\n |          20)``, then only the forests built during [10, 20) (half open set) rounds\n |          are used in this prediction.\n |      \n |          .. versionadded:: 1.4.0\n |      \n |      Returns\n |      -------\n |      prediction\n |  \n |  save_model(self, fname: Union[str, os.PathLike]) -> None\n |      Save the model to a file.\n |      \n |      The model is saved in an XGBoost internal format which is universal among the\n |      various XGBoost interfaces. Auxiliary attributes of the Python Booster object\n |      (such as feature_names) will not be saved when using binary format.  To save\n |      those attributes, use JSON/UBJ instead. See :doc:`Model IO\n |      </tutorials/saving_model>` for more info.\n |      \n |      .. code-block:: python\n |      \n |        model.save_model(\"model.json\")\n |        # or\n |        model.save_model(\"model.ubj\")\n |      \n |      Parameters\n |      ----------\n |      fname : string or os.PathLike\n |          Output file name\n |  \n |  set_params(self, **params: Any) -> 'XGBModel'\n |      Set the parameters of this estimator.  Modification of the sklearn method to\n |      allow unknown kwargs. This allows using the full range of xgboost\n |      parameters that are not defined as member variables in sklearn grid\n |      search.\n |      \n |      Returns\n |      -------\n |      self\n |  \n |  ----------------------------------------------------------------------\n |  Readonly properties inherited from XGBModel:\n |  \n |  best_iteration\n |      The best iteration obtained by early stopping.  This attribute is 0-based,\n |      for instance if the best iteration is the first round, then best_iteration is 0.\n |  \n |  best_ntree_limit\n |  \n |  best_score\n |      The best score obtained by early stopping.\n |  \n |  coef_\n |      Coefficients property\n |      \n |      .. note:: Coefficients are defined only for linear learners\n |      \n |          Coefficients are only defined when the linear model is chosen as\n |          base learner (`booster=gblinear`). It is not defined for other base\n |          learner types, such as tree learners (`booster=gbtree`).\n |      \n |      Returns\n |      -------\n |      coef_ : array of shape ``[n_features]`` or ``[n_classes, n_features]``\n |  \n |  feature_importances_\n |      Feature importances property, return depends on `importance_type`\n |      parameter. When model trained with multi-class/multi-label/multi-target dataset,\n |      the feature importance is \"averaged\" over all targets. The \"average\" is defined\n |      based on the importance type. For instance, if the importance type is\n |      \"total_gain\", then the score is sum of loss change for each split from all\n |      trees.\n |      \n |      Returns\n |      -------\n |      feature_importances_ : array of shape ``[n_features]`` except for multi-class\n |      linear model, which returns an array with shape `(n_features, n_classes)`\n |  \n |  feature_names_in_\n |      Names of features seen during :py:meth:`fit`.  Defined only when `X` has feature\n |      names that are all strings.\n |  \n |  intercept_\n |      Intercept (bias) property\n |      \n |      .. note:: Intercept is defined only for linear learners\n |      \n |          Intercept (bias) is only defined when the linear model is chosen as base\n |          learner (`booster=gblinear`). It is not defined for other base learner types,\n |          such as tree learners (`booster=gbtree`).\n |      \n |      Returns\n |      -------\n |      intercept_ : array of shape ``(1,)`` or ``[n_classes]``\n |  \n |  n_features_in_\n |      Number of features seen during :py:meth:`fit`.\n |  \n |  ----------------------------------------------------------------------\n |  Methods inherited from sklearn.base.BaseEstimator:\n |  \n |  __getstate__(self)\n |  \n |  __repr__(self, N_CHAR_MAX=700)\n |      Return repr(self).\n |  \n |  __setstate__(self, state)\n |  \n |  ----------------------------------------------------------------------\n |  Data descriptors inherited from sklearn.base.BaseEstimator:\n |  \n |  __dict__\n |      dictionary for instance variables (if defined)\n |  \n |  __weakref__\n |      list of weak references to the object (if defined)\n |  \n |  ----------------------------------------------------------------------\n |  Methods inherited from sklearn.base.RegressorMixin:\n |  \n |  score(self, X, y, sample_weight=None)\n |      Return the coefficient of determination of the prediction.\n |      \n |      The coefficient of determination :math:`R^2` is defined as\n |      :math:`(1 - \\frac{u}{v})`, where :math:`u` is the residual\n |      sum of squares ``((y_true - y_pred)** 2).sum()`` and :math:`v`\n |      is the total sum of squares ``((y_true - y_true.mean()) ** 2).sum()``.\n |      The best possible score is 1.0 and it can be negative (because the\n |      model can be arbitrarily worse). A constant model that always predicts\n |      the expected value of `y`, disregarding the input features, would get\n |      a :math:`R^2` score of 0.0.\n |      \n |      Parameters\n |      ----------\n |      X : array-like of shape (n_samples, n_features)\n |          Test samples. For some estimators this may be a precomputed\n |          kernel matrix or a list of generic objects instead with shape\n |          ``(n_samples, n_samples_fitted)``, where ``n_samples_fitted``\n |          is the number of samples used in the fitting for the estimator.\n |      \n |      y : array-like of shape (n_samples,) or (n_samples, n_outputs)\n |          True values for `X`.\n |      \n |      sample_weight : array-like of shape (n_samples,), default=None\n |          Sample weights.\n |      \n |      Returns\n |      -------\n |      score : float\n |          :math:`R^2` of ``self.predict(X)`` wrt. `y`.\n |      \n |      Notes\n |      -----\n |      The :math:`R^2` score used when calling ``score`` on a regressor uses\n |      ``multioutput='uniform_average'`` from version 0.23 to keep consistent\n |      with default value of :func:`~sklearn.metrics.r2_score`.\n |      This influences the ``score`` method of all the multioutput\n |      regressors (except for\n |      :class:`~sklearn.multioutput.MultiOutputRegressor`).\n\n"
     ]
    }
   ],
   "source": [
    "from xgboost import XGBRegressor\n",
    "\n",
    "help(XGBRegressor)"
   ]
  },
  {
   "cell_type": "markdown",
   "metadata": {
    "application/vnd.databricks.v1+cell": {
     "cellMetadata": {},
     "inputWidgets": {},
     "nuid": "be90fd6a-bb96-466d-bb01-0bdda6436776",
     "showTitle": false,
     "title": ""
    }
   },
   "source": [
    "### Define the objective function\n",
    "The objective function used to find optimal hyperparameters. By default, this notebook only runs\n",
    "this function once (`max_evals=1` in the `hyperopt.fmin` invocation) with fixed hyperparameters, but\n",
    "hyperparameters can be tuned by modifying `space`, defined below. `hyperopt.fmin` will then use this\n",
    "function's return value to search the space to minimize the loss."
   ]
  },
  {
   "cell_type": "code",
   "execution_count": 0,
   "metadata": {
    "application/vnd.databricks.v1+cell": {
     "cellMetadata": {},
     "inputWidgets": {},
     "nuid": "cb4a7b11-db8e-4f3a-9c27-14c118a279d7",
     "showTitle": false,
     "title": ""
    },
    "execution": {
     "iopub.execute_input": "2024-03-03T16:35:32.897016Z",
     "iopub.status.busy": "2024-03-03T16:35:32.895860Z",
     "iopub.status.idle": "2024-03-03T16:35:34.149422Z",
     "shell.execute_reply": "2024-03-03T16:35:34.148733Z"
    }
   },
   "outputs": [
    {
     "output_type": "stream",
     "name": "stdout",
     "output_type": "stream",
     "text": [
      "Warning: No categorical columns found. Calling 'transform' will only return input data.\n"
     ]
    }
   ],
   "source": [
    "import mlflow\n",
    "from mlflow.models import Model, infer_signature, ModelSignature\n",
    "from mlflow.pyfunc import PyFuncModel\n",
    "from mlflow import pyfunc\n",
    "import sklearn\n",
    "from sklearn import set_config\n",
    "from sklearn.pipeline import Pipeline\n",
    "from hyperopt import hp, tpe, fmin, STATUS_OK, Trials\n",
    "\n",
    "\n",
    "# Create a separate pipeline to transform the validation dataset. This is used for early stopping.\n",
    "pipeline_val = Pipeline([\n",
    "    (\"column_selector\", col_selector),\n",
    "    (\"preprocessor\", preprocessor),\n",
    "])\n",
    "\n",
    "mlflow.sklearn.autolog(disable=True)\n",
    "pipeline_val.fit(X_train, y_train)\n",
    "X_val_processed = pipeline_val.transform(X_val)\n",
    "\n",
    "def objective(params):\n",
    "  with mlflow.start_run(experiment_id=\"871067855356899\") as mlflow_run:\n",
    "    xgb_regressor = XGBRegressor(**params)\n",
    "\n",
    "    model = Pipeline([\n",
    "        (\"column_selector\", col_selector),\n",
    "        (\"preprocessor\", preprocessor),\n",
    "        (\"regressor\", xgb_regressor),\n",
    "    ])\n",
    "\n",
    "    # Enable automatic logging of input samples, metrics, parameters, and models\n",
    "    mlflow.sklearn.autolog(\n",
    "        log_input_examples=True,\n",
    "        silent=True,\n",
    "    )\n",
    "\n",
    "    model.fit(X_train, y_train, regressor__early_stopping_rounds=5, regressor__verbose=False, regressor__eval_set=[(X_val_processed,y_val)])\n",
    "\n",
    "    \n",
    "    # Log metrics for the training set\n",
    "    mlflow_model = Model()\n",
    "    pyfunc.add_to_model(mlflow_model, loader_module=\"mlflow.sklearn\")\n",
    "    pyfunc_model = PyFuncModel(model_meta=mlflow_model, model_impl=model)\n",
    "    training_eval_result = mlflow.evaluate(\n",
    "        model=pyfunc_model,\n",
    "        data=X_train.assign(**{str(target_col):y_train}),\n",
    "        targets=target_col,\n",
    "        model_type=\"regressor\",\n",
    "        evaluator_config = {\"log_model_explainability\": False,\n",
    "                            \"metric_prefix\": \"training_\"}\n",
    "    )\n",
    "    # Log metrics for the validation set\n",
    "    val_eval_result = mlflow.evaluate(\n",
    "        model=pyfunc_model,\n",
    "        data=X_val.assign(**{str(target_col):y_val}),\n",
    "        targets=target_col,\n",
    "        model_type=\"regressor\",\n",
    "        evaluator_config= {\"log_model_explainability\": False,\n",
    "                           \"metric_prefix\": \"val_\"}\n",
    "   )\n",
    "    xgb_val_metrics = val_eval_result.metrics\n",
    "    # Log metrics for the test set\n",
    "    test_eval_result = mlflow.evaluate(\n",
    "        model=pyfunc_model,\n",
    "        data=X_test.assign(**{str(target_col):y_test}),\n",
    "        targets=target_col,\n",
    "        model_type=\"regressor\",\n",
    "        evaluator_config= {\"log_model_explainability\": False,\n",
    "                           \"metric_prefix\": \"test_\"}\n",
    "   )\n",
    "    xgb_test_metrics = test_eval_result.metrics\n",
    "\n",
    "    loss = xgb_val_metrics[\"val_r2_score\"]\n",
    "\n",
    "    # Truncate metric key names so they can be displayed together\n",
    "    xgb_val_metrics = {k.replace(\"val_\", \"\"): v for k, v in xgb_val_metrics.items()}\n",
    "    xgb_test_metrics = {k.replace(\"test_\", \"\"): v for k, v in xgb_test_metrics.items()}\n",
    "\n",
    "    return {\n",
    "      \"loss\": loss,\n",
    "      \"status\": STATUS_OK,\n",
    "      \"val_metrics\": xgb_val_metrics,\n",
    "      \"test_metrics\": xgb_test_metrics,\n",
    "      \"model\": model,\n",
    "      \"run\": mlflow_run,\n",
    "    }"
   ]
  },
  {
   "cell_type": "markdown",
   "metadata": {
    "application/vnd.databricks.v1+cell": {
     "cellMetadata": {},
     "inputWidgets": {},
     "nuid": "0594af3a-8f67-4d73-9131-72a2a49eccfe",
     "showTitle": false,
     "title": ""
    }
   },
   "source": [
    "### Configure the hyperparameter search space\n",
    "Configure the search space of parameters. Parameters below are all constant expressions but can be\n",
    "modified to widen the search space. For example, when training a decision tree regressor, to allow\n",
    "the maximum tree depth to be either 2 or 3, set the key of 'max_depth' to\n",
    "`hp.choice('max_depth', [2, 3])`. Be sure to also increase `max_evals` in the `fmin` call below.\n",
    "\n",
    "See https://docs.databricks.com/applications/machine-learning/automl-hyperparam-tuning/index.html\n",
    "for more information on hyperparameter tuning as well as\n",
    "http://hyperopt.github.io/hyperopt/getting-started/search_spaces/ for documentation on supported\n",
    "search expressions.\n",
    "\n",
    "For documentation on parameters used by the model in use, please see:\n",
    "https://xgboost.readthedocs.io/en/stable/python/python_api.html#xgboost.XGBRegressor\n",
    "\n",
    "NOTE: The above URL points to a stable version of the documentation corresponding to the last\n",
    "released version of the package. The documentation may differ slightly for the package version\n",
    "used by this notebook."
   ]
  },
  {
   "cell_type": "code",
   "execution_count": 0,
   "metadata": {
    "application/vnd.databricks.v1+cell": {
     "cellMetadata": {},
     "inputWidgets": {},
     "nuid": "72262d34-c4e8-411d-a2e3-3997a892d635",
     "showTitle": false,
     "title": ""
    },
    "execution": {
     "iopub.execute_input": "2024-03-03T16:35:34.154624Z",
     "iopub.status.busy": "2024-03-03T16:35:34.153443Z",
     "iopub.status.idle": "2024-03-03T16:35:34.158928Z",
     "shell.execute_reply": "2024-03-03T16:35:34.158413Z"
    }
   },
   "outputs": [],
   "source": [
    "space = {\n",
    "  \"colsample_bytree\": 0.6159231208976728,\n",
    "  \"learning_rate\": 0.12392339003745867,\n",
    "  \"max_depth\": 4,\n",
    "  \"min_child_weight\": 2,\n",
    "  \"n_estimators\": 267,\n",
    "  \"n_jobs\": 100,\n",
    "  \"subsample\": 0.5000782339400589,\n",
    "  \"verbosity\": 0,\n",
    "  \"random_state\": 903139950,\n",
    "}"
   ]
  },
  {
   "cell_type": "markdown",
   "metadata": {
    "application/vnd.databricks.v1+cell": {
     "cellMetadata": {},
     "inputWidgets": {},
     "nuid": "eda8815b-352e-4c73-bddd-c08d07ada33a",
     "showTitle": false,
     "title": ""
    }
   },
   "source": [
    "### Run trials\n",
    "When widening the search space and training multiple models, switch to `SparkTrials` to parallelize\n",
    "training on Spark:\n",
    "```\n",
    "from hyperopt import SparkTrials\n",
    "trials = SparkTrials()\n",
    "```\n",
    "\n",
    "NOTE: While `Trials` starts an MLFlow run for each set of hyperparameters, `SparkTrials` only starts\n",
    "one top-level run; it will start a subrun for each set of hyperparameters.\n",
    "\n",
    "See http://hyperopt.github.io/hyperopt/scaleout/spark/ for more info."
   ]
  },
  {
   "cell_type": "code",
   "execution_count": 0,
   "metadata": {
    "application/vnd.databricks.v1+cell": {
     "cellMetadata": {},
     "inputWidgets": {},
     "nuid": "d20fe2e8-0c28-4c9b-8798-bfe294f6b8b2",
     "showTitle": false,
     "title": ""
    },
    "execution": {
     "iopub.execute_input": "2024-03-03T16:35:34.163441Z",
     "iopub.status.busy": "2024-03-03T16:35:34.162299Z",
     "iopub.status.idle": "2024-03-03T16:35:45.754192Z",
     "shell.execute_reply": "2024-03-03T16:35:45.752807Z"
    }
   },
   "outputs": [
    {
     "output_type": "stream",
     "name": "stdout",
     "output_type": "stream",
     "text": [
      "\r  0%|          | 0/1 [00:00<?, ?trial/s, best loss=?]"
     ]
    },
    {
     "output_type": "stream",
     "name": "stdout",
     "output_type": "stream",
     "text": [
      "\r                                                     "
     ]
    },
    {
     "output_type": "stream",
     "name": "stdout",
     "output_type": "stream",
     "text": [
      "\r"
     ]
    },
    {
     "output_type": "stream",
     "name": "stdout",
     "output_type": "stream",
     "text": [
      "Warning: No categorical columns found. Calling 'transform' will only return input data.\n\r  0%|          | 0/1 [00:00<?, ?trial/s, best loss=?]"
     ]
    },
    {
     "output_type": "stream",
     "name": "stderr",
     "output_type": "stream",
     "text": [
      "/databricks/python/lib/python3.9/site-packages/xgboost/sklearn.py:861: UserWarning: `early_stopping_rounds` in `fit` method is deprecated for better compatibility with scikit-learn, use `early_stopping_rounds` in constructor or`set_params` instead.\n  warnings.warn(\n\n"
     ]
    },
    {
     "output_type": "stream",
     "name": "stderr",
     "output_type": "stream",
     "text": [
      "2024/03/03 16:35:42 INFO mlflow.models.evaluation.base: Evaluating the model with the default evaluator.\n\n"
     ]
    },
    {
     "output_type": "stream",
     "name": "stderr",
     "output_type": "stream",
     "text": [
      "2024/03/03 16:35:43 INFO mlflow.models.evaluation.base: Evaluating the model with the default evaluator.\n\n"
     ]
    },
    {
     "output_type": "stream",
     "name": "stderr",
     "output_type": "stream",
     "text": [
      "2024/03/03 16:35:44 INFO mlflow.models.evaluation.base: Evaluating the model with the default evaluator.\n\n"
     ]
    },
    {
     "output_type": "stream",
     "name": "stdout",
     "output_type": "stream",
     "text": [
      "\r100%|██████████| 1/1 [00:11<00:00, 11.19s/trial, best loss: 0.8875263552458745]"
     ]
    },
    {
     "output_type": "stream",
     "name": "stdout",
     "output_type": "stream",
     "text": [
      "\r100%|██████████| 1/1 [00:11<00:00, 11.19s/trial, best loss: 0.8875263552458745]"
     ]
    },
    {
     "output_type": "stream",
     "name": "stdout",
     "output_type": "stream",
     "text": [
      "\n"
     ]
    },
    {
     "output_type": "display_data",
     "data": {
      "text/html": [
       "<div>\n",
       "<style scoped>\n",
       "    .dataframe tbody tr th:only-of-type {\n",
       "        vertical-align: middle;\n",
       "    }\n",
       "\n",
       "    .dataframe tbody tr th {\n",
       "        vertical-align: top;\n",
       "    }\n",
       "\n",
       "    .dataframe thead th {\n",
       "        text-align: right;\n",
       "    }\n",
       "</style>\n",
       "<table border=\"1\" class=\"dataframe\">\n",
       "  <thead>\n",
       "    <tr style=\"text-align: right;\">\n",
       "      <th></th>\n",
       "      <th>score</th>\n",
       "      <th>example_count</th>\n",
       "      <th>mean_absolute_error</th>\n",
       "      <th>mean_squared_error</th>\n",
       "      <th>root_mean_squared_error</th>\n",
       "      <th>sum_on_target</th>\n",
       "      <th>mean_on_target</th>\n",
       "      <th>r2_score</th>\n",
       "      <th>max_error</th>\n",
       "      <th>mean_absolute_percentage_error</th>\n",
       "    </tr>\n",
       "  </thead>\n",
       "  <tbody>\n",
       "    <tr>\n",
       "      <th>validation</th>\n",
       "      <td>0.887526</td>\n",
       "      <td>269</td>\n",
       "      <td>18006.383713</td>\n",
       "      <td>9.956539e+08</td>\n",
       "      <td>31553.983128</td>\n",
       "      <td>49547502</td>\n",
       "      <td>184191.457249</td>\n",
       "      <td>0.887526</td>\n",
       "      <td>231862.53125</td>\n",
       "      <td>0.102750</td>\n",
       "    </tr>\n",
       "    <tr>\n",
       "      <th>test</th>\n",
       "      <td>0.910661</td>\n",
       "      <td>319</td>\n",
       "      <td>14943.410413</td>\n",
       "      <td>4.777571e+08</td>\n",
       "      <td>21857.655410</td>\n",
       "      <td>56363726</td>\n",
       "      <td>176688.796238</td>\n",
       "      <td>0.910661</td>\n",
       "      <td>140053.62500</td>\n",
       "      <td>0.091324</td>\n",
       "    </tr>\n",
       "  </tbody>\n",
       "</table>\n",
       "</div>"
      ],
      "text/plain": [
       "               score  example_count  mean_absolute_error  mean_squared_error  \\\n",
       "validation  0.887526            269         18006.383713        9.956539e+08   \n",
       "test        0.910661            319         14943.410413        4.777571e+08   \n",
       "\n",
       "            root_mean_squared_error  sum_on_target  mean_on_target  r2_score  \\\n",
       "validation             31553.983128       49547502   184191.457249  0.887526   \n",
       "test                   21857.655410       56363726   176688.796238  0.910661   \n",
       "\n",
       "               max_error  mean_absolute_percentage_error  \n",
       "validation  231862.53125                        0.102750  \n",
       "test        140053.62500                        0.091324  "
      ]
     },
     "metadata": {},
     "output_type": "display_data"
    },
    {
     "output_type": "execute_result",
     "data": {
      "text/html": [
       "<style>#sk-bc8d1c3f-e490-499d-beb3-19b6d20fc998 {color: black;background-color: white;}#sk-bc8d1c3f-e490-499d-beb3-19b6d20fc998 pre{padding: 0;}#sk-bc8d1c3f-e490-499d-beb3-19b6d20fc998 div.sk-toggleable {background-color: white;}#sk-bc8d1c3f-e490-499d-beb3-19b6d20fc998 label.sk-toggleable__label {cursor: pointer;display: block;width: 100%;margin-bottom: 0;padding: 0.3em;box-sizing: border-box;text-align: center;}#sk-bc8d1c3f-e490-499d-beb3-19b6d20fc998 label.sk-toggleable__label-arrow:before {content: \"▸\";float: left;margin-right: 0.25em;color: #696969;}#sk-bc8d1c3f-e490-499d-beb3-19b6d20fc998 label.sk-toggleable__label-arrow:hover:before {color: black;}#sk-bc8d1c3f-e490-499d-beb3-19b6d20fc998 div.sk-estimator:hover label.sk-toggleable__label-arrow:before {color: black;}#sk-bc8d1c3f-e490-499d-beb3-19b6d20fc998 div.sk-toggleable__content {max-height: 0;max-width: 0;overflow: hidden;text-align: left;background-color: #f0f8ff;}#sk-bc8d1c3f-e490-499d-beb3-19b6d20fc998 div.sk-toggleable__content pre {margin: 0.2em;color: black;border-radius: 0.25em;background-color: #f0f8ff;}#sk-bc8d1c3f-e490-499d-beb3-19b6d20fc998 input.sk-toggleable__control:checked~div.sk-toggleable__content {max-height: 200px;max-width: 100%;overflow: auto;}#sk-bc8d1c3f-e490-499d-beb3-19b6d20fc998 input.sk-toggleable__control:checked~label.sk-toggleable__label-arrow:before {content: \"▾\";}#sk-bc8d1c3f-e490-499d-beb3-19b6d20fc998 div.sk-estimator input.sk-toggleable__control:checked~label.sk-toggleable__label {background-color: #d4ebff;}#sk-bc8d1c3f-e490-499d-beb3-19b6d20fc998 div.sk-label input.sk-toggleable__control:checked~label.sk-toggleable__label {background-color: #d4ebff;}#sk-bc8d1c3f-e490-499d-beb3-19b6d20fc998 input.sk-hidden--visually {border: 0;clip: rect(1px 1px 1px 1px);clip: rect(1px, 1px, 1px, 1px);height: 1px;margin: -1px;overflow: hidden;padding: 0;position: absolute;width: 1px;}#sk-bc8d1c3f-e490-499d-beb3-19b6d20fc998 div.sk-estimator {font-family: monospace;background-color: #f0f8ff;border: 1px dotted black;border-radius: 0.25em;box-sizing: border-box;margin-bottom: 0.5em;}#sk-bc8d1c3f-e490-499d-beb3-19b6d20fc998 div.sk-estimator:hover {background-color: #d4ebff;}#sk-bc8d1c3f-e490-499d-beb3-19b6d20fc998 div.sk-parallel-item::after {content: \"\";width: 100%;border-bottom: 1px solid gray;flex-grow: 1;}#sk-bc8d1c3f-e490-499d-beb3-19b6d20fc998 div.sk-label:hover label.sk-toggleable__label {background-color: #d4ebff;}#sk-bc8d1c3f-e490-499d-beb3-19b6d20fc998 div.sk-serial::before {content: \"\";position: absolute;border-left: 1px solid gray;box-sizing: border-box;top: 2em;bottom: 0;left: 50%;}#sk-bc8d1c3f-e490-499d-beb3-19b6d20fc998 div.sk-serial {display: flex;flex-direction: column;align-items: center;background-color: white;padding-right: 0.2em;padding-left: 0.2em;}#sk-bc8d1c3f-e490-499d-beb3-19b6d20fc998 div.sk-item {z-index: 1;}#sk-bc8d1c3f-e490-499d-beb3-19b6d20fc998 div.sk-parallel {display: flex;align-items: stretch;justify-content: center;background-color: white;}#sk-bc8d1c3f-e490-499d-beb3-19b6d20fc998 div.sk-parallel::before {content: \"\";position: absolute;border-left: 1px solid gray;box-sizing: border-box;top: 2em;bottom: 0;left: 50%;}#sk-bc8d1c3f-e490-499d-beb3-19b6d20fc998 div.sk-parallel-item {display: flex;flex-direction: column;position: relative;background-color: white;}#sk-bc8d1c3f-e490-499d-beb3-19b6d20fc998 div.sk-parallel-item:first-child::after {align-self: flex-end;width: 50%;}#sk-bc8d1c3f-e490-499d-beb3-19b6d20fc998 div.sk-parallel-item:last-child::after {align-self: flex-start;width: 50%;}#sk-bc8d1c3f-e490-499d-beb3-19b6d20fc998 div.sk-parallel-item:only-child::after {width: 0;}#sk-bc8d1c3f-e490-499d-beb3-19b6d20fc998 div.sk-dashed-wrapped {border: 1px dashed gray;margin: 0 0.4em 0.5em 0.4em;box-sizing: border-box;padding-bottom: 0.4em;background-color: white;position: relative;}#sk-bc8d1c3f-e490-499d-beb3-19b6d20fc998 div.sk-label label {font-family: monospace;font-weight: bold;background-color: white;display: inline-block;line-height: 1.2em;}#sk-bc8d1c3f-e490-499d-beb3-19b6d20fc998 div.sk-label-container {position: relative;z-index: 2;text-align: center;}#sk-bc8d1c3f-e490-499d-beb3-19b6d20fc998 div.sk-container {/* jupyter's `normalize.less` sets `[hidden] { display: none; }` but bootstrap.min.css set `[hidden] { display: none !important; }` so we also need the `!important` here to be able to override the default hidden behavior on the sphinx rendered scikit-learn.org. See: https://github.com/scikit-learn/scikit-learn/issues/21755 */display: inline-block !important;position: relative;}#sk-bc8d1c3f-e490-499d-beb3-19b6d20fc998 div.sk-text-repr-fallback {display: none;}</style><div id=\"sk-bc8d1c3f-e490-499d-beb3-19b6d20fc998\" class=\"sk-top-container\"><div class=\"sk-text-repr-fallback\"><pre>Pipeline(steps=[(&#x27;column_selector&#x27;,\n",
       "                 ColumnSelector(cols=[&#x27;MSSubClass&#x27;, &#x27;GarageCond&#x27;, &#x27;Heating&#x27;,\n",
       "                                      &#x27;Fireplaces&#x27;, &#x27;Condition1&#x27;, &#x27;SaleType&#x27;,\n",
       "                                      &#x27;BsmtUnfSF&#x27;, &#x27;HouseStyle&#x27;, &#x27;TotalBsmtSF&#x27;,\n",
       "                                      &#x27;PoolQC&#x27;, &#x27;MasVnrArea&#x27;, &#x27;YrSold&#x27;,\n",
       "                                      &#x27;GarageCars&#x27;, &#x27;YearBuilt&#x27;, &#x27;LotShape&#x27;,\n",
       "                                      &#x27;BsmtQual&#x27;, &#x27;GarageType&#x27;, &#x27;KitchenQual&#x27;,\n",
       "                                      &#x27;LandSlope&#x27;, &#x27;1stFlrSF&#x27;, &#x27;YearRemodAdd&#x27;,\n",
       "                                      &#x27;Functional&#x27;, &#x27;OpenPorchSF&#x27;, &#x27;2ndFlrSF&#x27;,\n",
       "                                      &#x27;...\n",
       "                              grow_policy=&#x27;depthwise&#x27;, importance_type=None,\n",
       "                              interaction_constraints=&#x27;&#x27;,\n",
       "                              learning_rate=0.12392339003745867, max_bin=256,\n",
       "                              max_cat_threshold=64, max_cat_to_onehot=4,\n",
       "                              max_delta_step=0, max_depth=4, max_leaves=0,\n",
       "                              min_child_weight=2, missing=nan,\n",
       "                              monotone_constraints=&#x27;()&#x27;, n_estimators=267,\n",
       "                              n_jobs=100, num_parallel_tree=1, predictor=&#x27;auto&#x27;,\n",
       "                              random_state=903139950, ...))])</pre><b>Please rerun this cell to show the HTML repr or trust the notebook.</b></div><div class=\"sk-container\" hidden><div class=\"sk-item sk-dashed-wrapped\"><div class=\"sk-label-container\"><div class=\"sk-label sk-toggleable\"><input class=\"sk-toggleable__control sk-hidden--visually\" id=\"508ba41d-ec32-405f-a06f-707cdf06f161\" type=\"checkbox\" ><label for=\"508ba41d-ec32-405f-a06f-707cdf06f161\" class=\"sk-toggleable__label sk-toggleable__label-arrow\">Pipeline</label><div class=\"sk-toggleable__content\"><pre>Pipeline(steps=[(&#x27;column_selector&#x27;,\n",
       "                 ColumnSelector(cols=[&#x27;MSSubClass&#x27;, &#x27;GarageCond&#x27;, &#x27;Heating&#x27;,\n",
       "                                      &#x27;Fireplaces&#x27;, &#x27;Condition1&#x27;, &#x27;SaleType&#x27;,\n",
       "                                      &#x27;BsmtUnfSF&#x27;, &#x27;HouseStyle&#x27;, &#x27;TotalBsmtSF&#x27;,\n",
       "                                      &#x27;PoolQC&#x27;, &#x27;MasVnrArea&#x27;, &#x27;YrSold&#x27;,\n",
       "                                      &#x27;GarageCars&#x27;, &#x27;YearBuilt&#x27;, &#x27;LotShape&#x27;,\n",
       "                                      &#x27;BsmtQual&#x27;, &#x27;GarageType&#x27;, &#x27;KitchenQual&#x27;,\n",
       "                                      &#x27;LandSlope&#x27;, &#x27;1stFlrSF&#x27;, &#x27;YearRemodAdd&#x27;,\n",
       "                                      &#x27;Functional&#x27;, &#x27;OpenPorchSF&#x27;, &#x27;2ndFlrSF&#x27;,\n",
       "                                      &#x27;...\n",
       "                              grow_policy=&#x27;depthwise&#x27;, importance_type=None,\n",
       "                              interaction_constraints=&#x27;&#x27;,\n",
       "                              learning_rate=0.12392339003745867, max_bin=256,\n",
       "                              max_cat_threshold=64, max_cat_to_onehot=4,\n",
       "                              max_delta_step=0, max_depth=4, max_leaves=0,\n",
       "                              min_child_weight=2, missing=nan,\n",
       "                              monotone_constraints=&#x27;()&#x27;, n_estimators=267,\n",
       "                              n_jobs=100, num_parallel_tree=1, predictor=&#x27;auto&#x27;,\n",
       "                              random_state=903139950, ...))])</pre></div></div></div><div class=\"sk-serial\"><div class=\"sk-item\"><div class=\"sk-estimator sk-toggleable\"><input class=\"sk-toggleable__control sk-hidden--visually\" id=\"0ae96679-c7e5-4b77-9758-a2eeea0d10be\" type=\"checkbox\" ><label for=\"0ae96679-c7e5-4b77-9758-a2eeea0d10be\" class=\"sk-toggleable__label sk-toggleable__label-arrow\">ColumnSelector</label><div class=\"sk-toggleable__content\"><pre>ColumnSelector(cols=[&#x27;MSSubClass&#x27;, &#x27;GarageCond&#x27;, &#x27;Heating&#x27;, &#x27;Fireplaces&#x27;,\n",
       "                     &#x27;Condition1&#x27;, &#x27;SaleType&#x27;, &#x27;BsmtUnfSF&#x27;, &#x27;HouseStyle&#x27;,\n",
       "                     &#x27;TotalBsmtSF&#x27;, &#x27;PoolQC&#x27;, &#x27;MasVnrArea&#x27;, &#x27;YrSold&#x27;,\n",
       "                     &#x27;GarageCars&#x27;, &#x27;YearBuilt&#x27;, &#x27;LotShape&#x27;, &#x27;BsmtQual&#x27;,\n",
       "                     &#x27;GarageType&#x27;, &#x27;KitchenQual&#x27;, &#x27;LandSlope&#x27;, &#x27;1stFlrSF&#x27;,\n",
       "                     &#x27;YearRemodAdd&#x27;, &#x27;Functional&#x27;, &#x27;OpenPorchSF&#x27;, &#x27;2ndFlrSF&#x27;,\n",
       "                     &#x27;PoolArea&#x27;, &#x27;HeatingQC&#x27;, &#x27;BsmtFinType2&#x27;, &#x27;Electrical&#x27;,\n",
       "                     &#x27;BsmtFinType1&#x27;, &#x27;GarageArea&#x27;, ...])</pre></div></div></div><div class=\"sk-item sk-dashed-wrapped\"><div class=\"sk-label-container\"><div class=\"sk-label sk-toggleable\"><input class=\"sk-toggleable__control sk-hidden--visually\" id=\"8a5d8603-1686-45e2-bccc-94f8393d4a2b\" type=\"checkbox\" ><label for=\"8a5d8603-1686-45e2-bccc-94f8393d4a2b\" class=\"sk-toggleable__label sk-toggleable__label-arrow\">preprocessor: ColumnTransformer</label><div class=\"sk-toggleable__content\"><pre>ColumnTransformer(remainder=&#x27;passthrough&#x27;, sparse_threshold=1,\n",
       "                  transformers=[(&#x27;timestamp_GarageYrBlt&#x27;,\n",
       "                                 Pipeline(steps=[(&#x27;impute_GarageYrBlt&#x27;,\n",
       "                                                  DatetimeImputer()),\n",
       "                                                 (&#x27;transform_GarageYrBlt&#x27;,\n",
       "                                                  TimestampTransformer()),\n",
       "                                                 (&#x27;onehot_encode_GarageYrBlt&#x27;,\n",
       "                                                  ColumnTransformer(remainder=&#x27;passthrough&#x27;,\n",
       "                                                                    transformers=[(&#x27;ohe&#x27;,\n",
       "                                                                                   OneHotEncoder(sparse=False),\n",
       "                                                                                   [10])])),\n",
       "                                                 (&#x27;standardize_G...\n",
       "                                  &#x27;BsmtCond&#x27;, &#x27;BsmtExposure&#x27;, &#x27;BsmtFinType1&#x27;,\n",
       "                                  &#x27;BsmtFinType2&#x27;, &#x27;BsmtFullBath&#x27;,\n",
       "                                  &#x27;BsmtHalfBath&#x27;, &#x27;BsmtQual&#x27;, &#x27;Condition1&#x27;,\n",
       "                                  &#x27;Condition2&#x27;, &#x27;Electrical&#x27;, &#x27;ExterCond&#x27;,\n",
       "                                  &#x27;ExterQual&#x27;, &#x27;Exterior1st&#x27;, &#x27;Exterior2nd&#x27;,\n",
       "                                  &#x27;Fence&#x27;, &#x27;FireplaceQu&#x27;, &#x27;Fireplaces&#x27;,\n",
       "                                  &#x27;Foundation&#x27;, &#x27;FullBath&#x27;, &#x27;Functional&#x27;,\n",
       "                                  &#x27;GarageCars&#x27;, &#x27;GarageCond&#x27;, &#x27;GarageFinish&#x27;,\n",
       "                                  &#x27;GarageQual&#x27;, &#x27;GarageType&#x27;, &#x27;HalfBath&#x27;,\n",
       "                                  &#x27;Heating&#x27;, ...])])</pre></div></div></div><div class=\"sk-parallel\"><div class=\"sk-parallel-item\"><div class=\"sk-item\"><div class=\"sk-label-container\"><div class=\"sk-label sk-toggleable\"><input class=\"sk-toggleable__control sk-hidden--visually\" id=\"fcf171fd-de5f-4f78-b348-8b19d4160382\" type=\"checkbox\" ><label for=\"fcf171fd-de5f-4f78-b348-8b19d4160382\" class=\"sk-toggleable__label sk-toggleable__label-arrow\">timestamp_GarageYrBlt</label><div class=\"sk-toggleable__content\"><pre>[&#x27;GarageYrBlt&#x27;]</pre></div></div></div><div class=\"sk-serial\"><div class=\"sk-item\"><div class=\"sk-serial\"><div class=\"sk-item\"><div class=\"sk-estimator sk-toggleable\"><input class=\"sk-toggleable__control sk-hidden--visually\" id=\"7adf6daf-55df-4850-9cb6-d979e1b7f537\" type=\"checkbox\" ><label for=\"7adf6daf-55df-4850-9cb6-d979e1b7f537\" class=\"sk-toggleable__label sk-toggleable__label-arrow\">DatetimeImputer</label><div class=\"sk-toggleable__content\"><pre>DatetimeImputer()</pre></div></div></div><div class=\"sk-item\"><div class=\"sk-estimator sk-toggleable\"><input class=\"sk-toggleable__control sk-hidden--visually\" id=\"872e1f80-8b62-4627-a38c-bd219d98d9da\" type=\"checkbox\" ><label for=\"872e1f80-8b62-4627-a38c-bd219d98d9da\" class=\"sk-toggleable__label sk-toggleable__label-arrow\">TimestampTransformer</label><div class=\"sk-toggleable__content\"><pre>TimestampTransformer()</pre></div></div></div><div class=\"sk-item sk-dashed-wrapped\"><div class=\"sk-label-container\"><div class=\"sk-label sk-toggleable\"><input class=\"sk-toggleable__control sk-hidden--visually\" id=\"ce205404-70c2-4730-af1a-025b8c36ac00\" type=\"checkbox\" ><label for=\"ce205404-70c2-4730-af1a-025b8c36ac00\" class=\"sk-toggleable__label sk-toggleable__label-arrow\">onehot_encode_GarageYrBlt: ColumnTransformer</label><div class=\"sk-toggleable__content\"><pre>ColumnTransformer(remainder=&#x27;passthrough&#x27;,\n",
       "                  transformers=[(&#x27;ohe&#x27;, OneHotEncoder(sparse=False), [10])])</pre></div></div></div><div class=\"sk-parallel\"><div class=\"sk-parallel-item\"><div class=\"sk-item\"><div class=\"sk-label-container\"><div class=\"sk-label sk-toggleable\"><input class=\"sk-toggleable__control sk-hidden--visually\" id=\"b5afe21e-390b-4598-a932-fe7a7fc3577e\" type=\"checkbox\" ><label for=\"b5afe21e-390b-4598-a932-fe7a7fc3577e\" class=\"sk-toggleable__label sk-toggleable__label-arrow\">ohe</label><div class=\"sk-toggleable__content\"><pre>[10]</pre></div></div></div><div class=\"sk-serial\"><div class=\"sk-item\"><div class=\"sk-estimator sk-toggleable\"><input class=\"sk-toggleable__control sk-hidden--visually\" id=\"8bad448d-b710-498c-b748-5795ddae5567\" type=\"checkbox\" ><label for=\"8bad448d-b710-498c-b748-5795ddae5567\" class=\"sk-toggleable__label sk-toggleable__label-arrow\">OneHotEncoder</label><div class=\"sk-toggleable__content\"><pre>OneHotEncoder(sparse=False)</pre></div></div></div></div></div></div><div class=\"sk-parallel-item\"><div class=\"sk-item\"><div class=\"sk-label-container\"><div class=\"sk-label sk-toggleable\"><input class=\"sk-toggleable__control sk-hidden--visually\" id=\"562f8950-2395-456c-8c03-17993274485a\" type=\"checkbox\" ><label for=\"562f8950-2395-456c-8c03-17993274485a\" class=\"sk-toggleable__label sk-toggleable__label-arrow\">remainder</label><div class=\"sk-toggleable__content\"><pre></pre></div></div></div><div class=\"sk-serial\"><div class=\"sk-item\"><div class=\"sk-estimator sk-toggleable\"><input class=\"sk-toggleable__control sk-hidden--visually\" id=\"9b3e8267-1352-4e74-8fd1-f7d1ded31127\" type=\"checkbox\" ><label for=\"9b3e8267-1352-4e74-8fd1-f7d1ded31127\" class=\"sk-toggleable__label sk-toggleable__label-arrow\">passthrough</label><div class=\"sk-toggleable__content\"><pre>passthrough</pre></div></div></div></div></div></div></div></div><div class=\"sk-item\"><div class=\"sk-estimator sk-toggleable\"><input class=\"sk-toggleable__control sk-hidden--visually\" id=\"6cf5177a-a361-49d2-af3d-8d738e2afcda\" type=\"checkbox\" ><label for=\"6cf5177a-a361-49d2-af3d-8d738e2afcda\" class=\"sk-toggleable__label sk-toggleable__label-arrow\">StandardScaler</label><div class=\"sk-toggleable__content\"><pre>StandardScaler()</pre></div></div></div></div></div></div></div></div><div class=\"sk-parallel-item\"><div class=\"sk-item\"><div class=\"sk-label-container\"><div class=\"sk-label sk-toggleable\"><input class=\"sk-toggleable__control sk-hidden--visually\" id=\"dcaa4780-8616-49ce-bb30-dcc67c3f07b1\" type=\"checkbox\" ><label for=\"dcaa4780-8616-49ce-bb30-dcc67c3f07b1\" class=\"sk-toggleable__label sk-toggleable__label-arrow\">boolean</label><div class=\"sk-toggleable__content\"><pre>[&#x27;Street&#x27;, &#x27;CentralAir&#x27;, &#x27;Utilities&#x27;]</pre></div></div></div><div class=\"sk-serial\"><div class=\"sk-item\"><div class=\"sk-serial\"><div class=\"sk-item\"><div class=\"sk-estimator sk-toggleable\"><input class=\"sk-toggleable__control sk-hidden--visually\" id=\"860d8b4e-f8c0-4687-9f4b-787d7764c197\" type=\"checkbox\" ><label for=\"860d8b4e-f8c0-4687-9f4b-787d7764c197\" class=\"sk-toggleable__label sk-toggleable__label-arrow\">FunctionTransformer</label><div class=\"sk-toggleable__content\"><pre>FunctionTransformer(func=&lt;function &lt;lambda&gt; at 0x7fb1db2d4940&gt;)</pre></div></div></div><div class=\"sk-item sk-dashed-wrapped\"><div class=\"sk-label-container\"><div class=\"sk-label sk-toggleable\"><input class=\"sk-toggleable__control sk-hidden--visually\" id=\"c3a7c404-b330-4cd2-bd0c-6c89b7fcd62d\" type=\"checkbox\" ><label for=\"c3a7c404-b330-4cd2-bd0c-6c89b7fcd62d\" class=\"sk-toggleable__label sk-toggleable__label-arrow\">imputers: ColumnTransformer</label><div class=\"sk-toggleable__content\"><pre>ColumnTransformer(remainder=&#x27;passthrough&#x27;, transformers=[])</pre></div></div></div><div class=\"sk-parallel\"><div class=\"sk-parallel-item\"><div class=\"sk-item\"><div class=\"sk-label-container\"><div class=\"sk-label sk-toggleable\"><input class=\"sk-toggleable__control sk-hidden--visually\" id=\"ee46b5c7-446e-4e92-ae9b-8b765206caa6\" type=\"checkbox\" ><label for=\"ee46b5c7-446e-4e92-ae9b-8b765206caa6\" class=\"sk-toggleable__label sk-toggleable__label-arrow\">remainder</label><div class=\"sk-toggleable__content\"><pre></pre></div></div></div><div class=\"sk-serial\"><div class=\"sk-item\"><div class=\"sk-estimator sk-toggleable\"><input class=\"sk-toggleable__control sk-hidden--visually\" id=\"1375907e-8ebc-4ff2-b183-0927e9818199\" type=\"checkbox\" ><label for=\"1375907e-8ebc-4ff2-b183-0927e9818199\" class=\"sk-toggleable__label sk-toggleable__label-arrow\">passthrough</label><div class=\"sk-toggleable__content\"><pre>passthrough</pre></div></div></div></div></div></div></div></div><div class=\"sk-item\"><div class=\"sk-estimator sk-toggleable\"><input class=\"sk-toggleable__control sk-hidden--visually\" id=\"d6e5b01c-d595-4e10-9e33-e0b3f67c235e\" type=\"checkbox\" ><label for=\"d6e5b01c-d595-4e10-9e33-e0b3f67c235e\" class=\"sk-toggleable__label sk-toggleable__label-arrow\">OneHotEncoder</label><div class=\"sk-toggleable__content\"><pre>OneHotEncoder(drop=&#x27;first&#x27;, handle_unknown=&#x27;ignore&#x27;)</pre></div></div></div></div></div></div></div></div><div class=\"sk-parallel-item\"><div class=\"sk-item\"><div class=\"sk-label-container\"><div class=\"sk-label sk-toggleable\"><input class=\"sk-toggleable__control sk-hidden--visually\" id=\"6a8a975c-f6c4-48f7-a311-dc3a5977c003\" type=\"checkbox\" ><label for=\"6a8a975c-f6c4-48f7-a311-dc3a5977c003\" class=\"sk-toggleable__label sk-toggleable__label-arrow\">numerical</label><div class=\"sk-toggleable__content\"><pre>[&#x27;MSSubClass&#x27;, &#x27;PoolArea&#x27;, &#x27;Fireplaces&#x27;, &#x27;OverallQual&#x27;, &#x27;LotArea&#x27;, &#x27;GrLivArea&#x27;, &#x27;ScreenPorch&#x27;, &#x27;BsmtFullBath&#x27;, &#x27;BsmtUnfSF&#x27;, &#x27;LowQualFinSF&#x27;, &#x27;TotalBsmtSF&#x27;, &#x27;MasVnrArea&#x27;, &#x27;YrSold&#x27;, &#x27;GarageCars&#x27;, &#x27;GarageArea&#x27;, &#x27;BedroomAbvGr&#x27;, &#x27;KitchenAbvGr&#x27;, &#x27;MoSold&#x27;, &#x27;YearBuilt&#x27;, &#x27;MiscVal&#x27;, &#x27;TotRmsAbvGrd&#x27;, &#x27;OverallCond&#x27;, &#x27;WoodDeckSF&#x27;, &#x27;3SsnPorch&#x27;, &#x27;Id&#x27;, &#x27;BsmtFinSF1&#x27;, &#x27;1stFlrSF&#x27;, &#x27;BsmtHalfBath&#x27;, &#x27;BsmtFinSF2&#x27;, &#x27;FullBath&#x27;, &#x27;YearRemodAdd&#x27;, &#x27;HalfBath&#x27;, &#x27;EnclosedPorch&#x27;, &#x27;OpenPorchSF&#x27;, &#x27;2ndFlrSF&#x27;]</pre></div></div></div><div class=\"sk-serial\"><div class=\"sk-item\"><div class=\"sk-serial\"><div class=\"sk-item\"><div class=\"sk-estimator sk-toggleable\"><input class=\"sk-toggleable__control sk-hidden--visually\" id=\"8d21d9f2-af94-47f6-bda6-5a63bb164108\" type=\"checkbox\" ><label for=\"8d21d9f2-af94-47f6-bda6-5a63bb164108\" class=\"sk-toggleable__label sk-toggleable__label-arrow\">FunctionTransformer</label><div class=\"sk-toggleable__content\"><pre>FunctionTransformer(func=&lt;function &lt;lambda&gt; at 0x7fb1db2d49d0&gt;)</pre></div></div></div><div class=\"sk-item sk-dashed-wrapped\"><div class=\"sk-label-container\"><div class=\"sk-label sk-toggleable\"><input class=\"sk-toggleable__control sk-hidden--visually\" id=\"2c809381-d1d1-4d45-8c24-8d55ae48cc9e\" type=\"checkbox\" ><label for=\"2c809381-d1d1-4d45-8c24-8d55ae48cc9e\" class=\"sk-toggleable__label sk-toggleable__label-arrow\">imputers: ColumnTransformer</label><div class=\"sk-toggleable__content\"><pre>ColumnTransformer(transformers=[(&#x27;impute_mean&#x27;, SimpleImputer(),\n",
       "                                 [&#x27;1stFlrSF&#x27;, &#x27;2ndFlrSF&#x27;, &#x27;3SsnPorch&#x27;,\n",
       "                                  &#x27;BedroomAbvGr&#x27;, &#x27;BsmtFinSF1&#x27;, &#x27;BsmtFinSF2&#x27;,\n",
       "                                  &#x27;BsmtFullBath&#x27;, &#x27;BsmtHalfBath&#x27;, &#x27;BsmtUnfSF&#x27;,\n",
       "                                  &#x27;EnclosedPorch&#x27;, &#x27;Fireplaces&#x27;, &#x27;FullBath&#x27;,\n",
       "                                  &#x27;GarageArea&#x27;, &#x27;GarageCars&#x27;, &#x27;GrLivArea&#x27;,\n",
       "                                  &#x27;HalfBath&#x27;, &#x27;Id&#x27;, &#x27;KitchenAbvGr&#x27;, &#x27;LotArea&#x27;,\n",
       "                                  &#x27;LowQualFinSF&#x27;, &#x27;MSSubClass&#x27;, &#x27;MasVnrArea&#x27;,\n",
       "                                  &#x27;MiscVal&#x27;, &#x27;MoSold&#x27;, &#x27;OpenPorchSF&#x27;,\n",
       "                                  &#x27;OverallCond&#x27;, &#x27;OverallQual&#x27;, &#x27;PoolArea&#x27;,\n",
       "                                  &#x27;ScreenPorch&#x27;, &#x27;TotRmsAbvGrd&#x27;, ...])])</pre></div></div></div><div class=\"sk-parallel\"><div class=\"sk-parallel-item\"><div class=\"sk-item\"><div class=\"sk-label-container\"><div class=\"sk-label sk-toggleable\"><input class=\"sk-toggleable__control sk-hidden--visually\" id=\"f03b71f6-234b-495b-ae49-0f63ef2bda8b\" type=\"checkbox\" ><label for=\"f03b71f6-234b-495b-ae49-0f63ef2bda8b\" class=\"sk-toggleable__label sk-toggleable__label-arrow\">impute_mean</label><div class=\"sk-toggleable__content\"><pre>[&#x27;1stFlrSF&#x27;, &#x27;2ndFlrSF&#x27;, &#x27;3SsnPorch&#x27;, &#x27;BedroomAbvGr&#x27;, &#x27;BsmtFinSF1&#x27;, &#x27;BsmtFinSF2&#x27;, &#x27;BsmtFullBath&#x27;, &#x27;BsmtHalfBath&#x27;, &#x27;BsmtUnfSF&#x27;, &#x27;EnclosedPorch&#x27;, &#x27;Fireplaces&#x27;, &#x27;FullBath&#x27;, &#x27;GarageArea&#x27;, &#x27;GarageCars&#x27;, &#x27;GrLivArea&#x27;, &#x27;HalfBath&#x27;, &#x27;Id&#x27;, &#x27;KitchenAbvGr&#x27;, &#x27;LotArea&#x27;, &#x27;LowQualFinSF&#x27;, &#x27;MSSubClass&#x27;, &#x27;MasVnrArea&#x27;, &#x27;MiscVal&#x27;, &#x27;MoSold&#x27;, &#x27;OpenPorchSF&#x27;, &#x27;OverallCond&#x27;, &#x27;OverallQual&#x27;, &#x27;PoolArea&#x27;, &#x27;ScreenPorch&#x27;, &#x27;TotRmsAbvGrd&#x27;, &#x27;TotalBsmtSF&#x27;, &#x27;WoodDeckSF&#x27;, &#x27;YearBuilt&#x27;, &#x27;YearRemodAdd&#x27;, &#x27;YrSold&#x27;]</pre></div></div></div><div class=\"sk-serial\"><div class=\"sk-item\"><div class=\"sk-estimator sk-toggleable\"><input class=\"sk-toggleable__control sk-hidden--visually\" id=\"c492ec0e-bcb6-4998-8848-71c4f2498a33\" type=\"checkbox\" ><label for=\"c492ec0e-bcb6-4998-8848-71c4f2498a33\" class=\"sk-toggleable__label sk-toggleable__label-arrow\">SimpleImputer</label><div class=\"sk-toggleable__content\"><pre>SimpleImputer()</pre></div></div></div></div></div></div></div></div><div class=\"sk-item\"><div class=\"sk-estimator sk-toggleable\"><input class=\"sk-toggleable__control sk-hidden--visually\" id=\"72cfa056-97de-4d67-a897-dda0328db922\" type=\"checkbox\" ><label for=\"72cfa056-97de-4d67-a897-dda0328db922\" class=\"sk-toggleable__label sk-toggleable__label-arrow\">StandardScaler</label><div class=\"sk-toggleable__content\"><pre>StandardScaler()</pre></div></div></div></div></div></div></div></div><div class=\"sk-parallel-item\"><div class=\"sk-item\"><div class=\"sk-label-container\"><div class=\"sk-label sk-toggleable\"><input class=\"sk-toggleable__control sk-hidden--visually\" id=\"b7629eed-2665-4b0e-b2ad-a911ca951190\" type=\"checkbox\" ><label for=\"b7629eed-2665-4b0e-b2ad-a911ca951190\" class=\"sk-toggleable__label sk-toggleable__label-arrow\">onehot</label><div class=\"sk-toggleable__content\"><pre>[&#x27;Alley&#x27;, &#x27;BedroomAbvGr&#x27;, &#x27;BldgType&#x27;, &#x27;BsmtCond&#x27;, &#x27;BsmtExposure&#x27;, &#x27;BsmtFinType1&#x27;, &#x27;BsmtFinType2&#x27;, &#x27;BsmtFullBath&#x27;, &#x27;BsmtHalfBath&#x27;, &#x27;BsmtQual&#x27;, &#x27;Condition1&#x27;, &#x27;Condition2&#x27;, &#x27;Electrical&#x27;, &#x27;ExterCond&#x27;, &#x27;ExterQual&#x27;, &#x27;Exterior1st&#x27;, &#x27;Exterior2nd&#x27;, &#x27;Fence&#x27;, &#x27;FireplaceQu&#x27;, &#x27;Fireplaces&#x27;, &#x27;Foundation&#x27;, &#x27;FullBath&#x27;, &#x27;Functional&#x27;, &#x27;GarageCars&#x27;, &#x27;GarageCond&#x27;, &#x27;GarageFinish&#x27;, &#x27;GarageQual&#x27;, &#x27;GarageType&#x27;, &#x27;HalfBath&#x27;, &#x27;Heating&#x27;, &#x27;HeatingQC&#x27;, &#x27;HouseStyle&#x27;, &#x27;KitchenAbvGr&#x27;, &#x27;KitchenQual&#x27;, &#x27;LandContour&#x27;, &#x27;LandSlope&#x27;, &#x27;LotConfig&#x27;, &#x27;LotFrontage&#x27;, &#x27;LotShape&#x27;, &#x27;MSZoning&#x27;, &#x27;MasVnrType&#x27;, &#x27;MiscFeature&#x27;, &#x27;MoSold&#x27;, &#x27;Neighborhood&#x27;, &#x27;OverallCond&#x27;, &#x27;OverallQual&#x27;, &#x27;PavedDrive&#x27;, &#x27;PoolArea&#x27;, &#x27;PoolQC&#x27;, &#x27;RoofMatl&#x27;, &#x27;RoofStyle&#x27;, &#x27;SaleCondition&#x27;, &#x27;SaleType&#x27;, &#x27;TotRmsAbvGrd&#x27;, &#x27;YrSold&#x27;]</pre></div></div></div><div class=\"sk-serial\"><div class=\"sk-item\"><div class=\"sk-serial\"><div class=\"sk-item sk-dashed-wrapped\"><div class=\"sk-label-container\"><div class=\"sk-label sk-toggleable\"><input class=\"sk-toggleable__control sk-hidden--visually\" id=\"4806b737-2838-4775-99dd-437d0fad232a\" type=\"checkbox\" ><label for=\"4806b737-2838-4775-99dd-437d0fad232a\" class=\"sk-toggleable__label sk-toggleable__label-arrow\">imputers: ColumnTransformer</label><div class=\"sk-toggleable__content\"><pre>ColumnTransformer(remainder=&#x27;passthrough&#x27;, transformers=[])</pre></div></div></div><div class=\"sk-parallel\"><div class=\"sk-parallel-item\"><div class=\"sk-item\"><div class=\"sk-label-container\"><div class=\"sk-label sk-toggleable\"><input class=\"sk-toggleable__control sk-hidden--visually\" id=\"e9e11f58-67c9-4a21-a925-e52fe9c03fd8\" type=\"checkbox\" ><label for=\"e9e11f58-67c9-4a21-a925-e52fe9c03fd8\" class=\"sk-toggleable__label sk-toggleable__label-arrow\">remainder</label><div class=\"sk-toggleable__content\"><pre></pre></div></div></div><div class=\"sk-serial\"><div class=\"sk-item\"><div class=\"sk-estimator sk-toggleable\"><input class=\"sk-toggleable__control sk-hidden--visually\" id=\"767e0050-2ed7-4887-b2cb-a4660a18a21a\" type=\"checkbox\" ><label for=\"767e0050-2ed7-4887-b2cb-a4660a18a21a\" class=\"sk-toggleable__label sk-toggleable__label-arrow\">passthrough</label><div class=\"sk-toggleable__content\"><pre>passthrough</pre></div></div></div></div></div></div></div></div><div class=\"sk-item\"><div class=\"sk-estimator sk-toggleable\"><input class=\"sk-toggleable__control sk-hidden--visually\" id=\"85970054-b8c8-4937-98d5-1a5464ed0bcd\" type=\"checkbox\" ><label for=\"85970054-b8c8-4937-98d5-1a5464ed0bcd\" class=\"sk-toggleable__label sk-toggleable__label-arrow\">OneHotEncoder</label><div class=\"sk-toggleable__content\"><pre>OneHotEncoder()</pre></div></div></div></div></div></div></div></div><div class=\"sk-parallel-item\"><div class=\"sk-item\"><div class=\"sk-label-container\"><div class=\"sk-label sk-toggleable\"><input class=\"sk-toggleable__control sk-hidden--visually\" id=\"42b0b0b1-b178-41ef-a367-4b88a3f42f0a\" type=\"checkbox\" ><label for=\"42b0b0b1-b178-41ef-a367-4b88a3f42f0a\" class=\"sk-toggleable__label sk-toggleable__label-arrow\">remainder</label><div class=\"sk-toggleable__content\"><pre>[]</pre></div></div></div><div class=\"sk-serial\"><div class=\"sk-item\"><div class=\"sk-estimator sk-toggleable\"><input class=\"sk-toggleable__control sk-hidden--visually\" id=\"46b48729-2bc4-4d28-8582-348e6a68c6a6\" type=\"checkbox\" ><label for=\"46b48729-2bc4-4d28-8582-348e6a68c6a6\" class=\"sk-toggleable__label sk-toggleable__label-arrow\">passthrough</label><div class=\"sk-toggleable__content\"><pre>passthrough</pre></div></div></div></div></div></div></div></div><div class=\"sk-item\"><div class=\"sk-estimator sk-toggleable\"><input class=\"sk-toggleable__control sk-hidden--visually\" id=\"4c938ce6-a903-4913-891e-028f0cf2ba68\" type=\"checkbox\" ><label for=\"4c938ce6-a903-4913-891e-028f0cf2ba68\" class=\"sk-toggleable__label sk-toggleable__label-arrow\">XGBRegressor</label><div class=\"sk-toggleable__content\"><pre>XGBRegressor(base_score=0.5, booster=&#x27;gbtree&#x27;, callbacks=None,\n",
       "             colsample_bylevel=1, colsample_bynode=1,\n",
       "             colsample_bytree=0.6159231208976728, early_stopping_rounds=None,\n",
       "             enable_categorical=False, eval_metric=None, feature_types=None,\n",
       "             gamma=0, gpu_id=-1, grow_policy=&#x27;depthwise&#x27;, importance_type=None,\n",
       "             interaction_constraints=&#x27;&#x27;, learning_rate=0.12392339003745867,\n",
       "             max_bin=256, max_cat_threshold=64, max_cat_to_onehot=4,\n",
       "             max_delta_step=0, max_depth=4, max_leaves=0, min_child_weight=2,\n",
       "             missing=nan, monotone_constraints=&#x27;()&#x27;, n_estimators=267,\n",
       "             n_jobs=100, num_parallel_tree=1, predictor=&#x27;auto&#x27;,\n",
       "             random_state=903139950, ...)</pre></div></div></div></div></div></div></div>"
      ],
      "text/plain": [
       "Pipeline(steps=[('column_selector',\n",
       "                 ColumnSelector(cols=['MSSubClass', 'GarageCond', 'Heating',\n",
       "                                      'Fireplaces', 'Condition1', 'SaleType',\n",
       "                                      'BsmtUnfSF', 'HouseStyle', 'TotalBsmtSF',\n",
       "                                      'PoolQC', 'MasVnrArea', 'YrSold',\n",
       "                                      'GarageCars', 'YearBuilt', 'LotShape',\n",
       "                                      'BsmtQual', 'GarageType', 'KitchenQual',\n",
       "                                      'LandSlope', '1stFlrSF', 'YearRemodAdd',\n",
       "                                      'Functional', 'OpenPorchSF', '2ndFlrSF',\n",
       "                                      '...\n",
       "                              grow_policy='depthwise', importance_type=None,\n",
       "                              interaction_constraints='',\n",
       "                              learning_rate=0.12392339003745867, max_bin=256,\n",
       "                              max_cat_threshold=64, max_cat_to_onehot=4,\n",
       "                              max_delta_step=0, max_depth=4, max_leaves=0,\n",
       "                              min_child_weight=2, missing=nan,\n",
       "                              monotone_constraints='()', n_estimators=267,\n",
       "                              n_jobs=100, num_parallel_tree=1, predictor='auto',\n",
       "                              random_state=903139950, ...))])"
      ]
     },
     "execution_count": 14,
     "metadata": {},
     "output_type": "execute_result"
    }
   ],
   "source": [
    "trials = Trials()\n",
    "fmin(objective,\n",
    "     space=space,\n",
    "     algo=tpe.suggest,\n",
    "     max_evals=1,  # Increase this when widening the hyperparameter search space.\n",
    "     trials=trials)\n",
    "\n",
    "best_result = trials.best_trial[\"result\"]\n",
    "model = best_result[\"model\"]\n",
    "mlflow_run = best_result[\"run\"]\n",
    "\n",
    "display(\n",
    "  pd.DataFrame(\n",
    "    [best_result[\"val_metrics\"], best_result[\"test_metrics\"]],\n",
    "    index=[\"validation\", \"test\"]))\n",
    "\n",
    "set_config(display=\"diagram\")\n",
    "model"
   ]
  },
  {
   "cell_type": "markdown",
   "metadata": {
    "application/vnd.databricks.v1+cell": {
     "cellMetadata": {},
     "inputWidgets": {},
     "nuid": "cbcba730-f8d4-4ed0-a8c8-26fe26fdf721",
     "showTitle": false,
     "title": ""
    }
   },
   "source": [
    "### Patch pandas version in logged model\n",
    "\n",
    "Ensures that model serving uses the same version of pandas that was used to train the model."
   ]
  },
  {
   "cell_type": "code",
   "execution_count": 0,
   "metadata": {
    "application/vnd.databricks.v1+cell": {
     "cellMetadata": {},
     "inputWidgets": {},
     "nuid": "594386ef-64b9-4879-9f51-14243fecb2e7",
     "showTitle": false,
     "title": ""
    },
    "execution": {
     "iopub.execute_input": "2024-03-03T16:35:45.758726Z",
     "iopub.status.busy": "2024-03-03T16:35:45.758448Z",
     "iopub.status.idle": "2024-03-03T16:35:47.073183Z",
     "shell.execute_reply": "2024-03-03T16:35:47.072513Z"
    }
   },
   "outputs": [
    {
     "output_type": "stream",
     "name": "stdout",
     "output_type": "stream",
     "text": [
      "Adding pandas dependency to conda.yaml\n"
     ]
    },
    {
     "output_type": "stream",
     "name": "stdout",
     "output_type": "stream",
     "text": [
      "Adding pandas dependency to requirements.txt\n"
     ]
    }
   ],
   "source": [
    "import mlflow\n",
    "import os\n",
    "import shutil\n",
    "import tempfile\n",
    "import yaml\n",
    "\n",
    "run_id = mlflow_run.info.run_id\n",
    "\n",
    "# Set up a local dir for downloading the artifacts.\n",
    "tmp_dir = str(tempfile.TemporaryDirectory())\n",
    "os.makedirs(tmp_dir)\n",
    "\n",
    "client = mlflow.tracking.MlflowClient()\n",
    "\n",
    "# Fix conda.yaml\n",
    "conda_file_path = mlflow.artifacts.download_artifacts(artifact_uri=f\"runs:/{run_id}/model/conda.yaml\", dst_path=tmp_dir)\n",
    "with open(conda_file_path) as f:\n",
    "  conda_libs = yaml.load(f, Loader=yaml.FullLoader)\n",
    "pandas_lib_exists = any([lib.startswith(\"pandas==\") for lib in conda_libs[\"dependencies\"][-1][\"pip\"]])\n",
    "if not pandas_lib_exists:\n",
    "  print(\"Adding pandas dependency to conda.yaml\")\n",
    "  conda_libs[\"dependencies\"][-1][\"pip\"].append(f\"pandas=={pd.__version__}\")\n",
    "\n",
    "  with open(f\"{tmp_dir}/conda.yaml\", \"w\") as f:\n",
    "    f.write(yaml.dump(conda_libs))\n",
    "  client.log_artifact(run_id=run_id, local_path=conda_file_path, artifact_path=\"model\")\n",
    "\n",
    "# Fix requirements.txt\n",
    "venv_file_path = mlflow.artifacts.download_artifacts(artifact_uri=f\"runs:/{run_id}/model/requirements.txt\", dst_path=tmp_dir)\n",
    "with open(venv_file_path) as f:\n",
    "  venv_libs = f.readlines()\n",
    "venv_libs = [lib.strip() for lib in venv_libs]\n",
    "pandas_lib_exists = any([lib.startswith(\"pandas==\") for lib in venv_libs])\n",
    "if not pandas_lib_exists:\n",
    "  print(\"Adding pandas dependency to requirements.txt\")\n",
    "  venv_libs.append(f\"pandas=={pd.__version__}\")\n",
    "\n",
    "  with open(f\"{tmp_dir}/requirements.txt\", \"w\") as f:\n",
    "    f.write(\"\\n\".join(venv_libs))\n",
    "  client.log_artifact(run_id=run_id, local_path=venv_file_path, artifact_path=\"model\")\n",
    "\n",
    "shutil.rmtree(tmp_dir)"
   ]
  },
  {
   "cell_type": "markdown",
   "metadata": {
    "application/vnd.databricks.v1+cell": {
     "cellMetadata": {},
     "inputWidgets": {},
     "nuid": "ff208e4b-ec98-4661-8346-c4a9953c05e5",
     "showTitle": false,
     "title": ""
    }
   },
   "source": [
    "## Feature importance\n",
    "\n",
    "SHAP is a game-theoretic approach to explain machine learning models, providing a summary plot\n",
    "of the relationship between features and model output. Features are ranked in descending order of\n",
    "importance, and impact/color describe the correlation between the feature and the target variable.\n",
    "- Generating SHAP feature importance is a very memory intensive operation, so to ensure that AutoML can run trials without\n",
    "  running out of memory, we disable SHAP by default.<br />\n",
    "  You can set the flag defined below to `shap_enabled = True` and re-run this notebook to see the SHAP plots.\n",
    "- To reduce the computational overhead of each trial, a single example is sampled from the validation set to explain.<br />\n",
    "  For more thorough results, increase the sample size of explanations, or provide your own examples to explain.\n",
    "- SHAP cannot explain models using data with nulls; if your dataset has any, both the background data and\n",
    "  examples to explain will be imputed using the mode (most frequent values). This affects the computed\n",
    "  SHAP values, as the imputed samples may not match the actual data distribution.\n",
    "\n",
    "For more information on how to read Shapley values, see the [SHAP documentation](https://shap.readthedocs.io/en/latest/example_notebooks/overviews/An%20introduction%20to%20explainable%20AI%20with%20Shapley%20values.html).\n",
    "\n",
    "> **NOTE:** SHAP run may take a long time with the datetime columns in the dataset."
   ]
  },
  {
   "cell_type": "code",
   "execution_count": 0,
   "metadata": {
    "application/vnd.databricks.v1+cell": {
     "cellMetadata": {},
     "inputWidgets": {},
     "nuid": "00f0affa-baf5-47d3-9d21-b46c8c500d34",
     "showTitle": false,
     "title": ""
    },
    "execution": {
     "iopub.execute_input": "2024-03-03T16:35:47.077413Z",
     "iopub.status.busy": "2024-03-03T16:35:47.077185Z",
     "iopub.status.idle": "2024-03-03T16:35:47.086424Z",
     "shell.execute_reply": "2024-03-03T16:35:47.085772Z"
    }
   },
   "outputs": [],
   "source": [
    "# Set this flag to True and re-run the notebook to see the SHAP plots\n",
    "shap_enabled = False"
   ]
  },
  {
   "cell_type": "code",
   "execution_count": 0,
   "metadata": {
    "application/vnd.databricks.v1+cell": {
     "cellMetadata": {},
     "inputWidgets": {},
     "nuid": "952ef6ba-eff4-4b8f-a5a8-6cd4e58b439b",
     "showTitle": false,
     "title": ""
    },
    "execution": {
     "iopub.execute_input": "2024-03-03T16:35:47.090249Z",
     "iopub.status.busy": "2024-03-03T16:35:47.090042Z",
     "iopub.status.idle": "2024-03-03T16:35:47.097705Z",
     "shell.execute_reply": "2024-03-03T16:35:47.097067Z"
    }
   },
   "outputs": [],
   "source": [
    "if shap_enabled:\n",
    "    mlflow.autolog(disable=True)\n",
    "    mlflow.sklearn.autolog(disable=True)\n",
    "    from shap import KernelExplainer, summary_plot\n",
    "    # Sample background data for SHAP Explainer. Increase the sample size to reduce variance.\n",
    "    train_sample = X_train.sample(n=min(100, X_train.shape[0]), random_state=903139950)\n",
    "\n",
    "    # Sample some rows from the validation set to explain. Increase the sample size for more thorough results.\n",
    "    example = X_val.sample(n=min(100, X_val.shape[0]), random_state=903139950)\n",
    "\n",
    "    # Use Kernel SHAP to explain feature importance on the sampled rows from the validation set.\n",
    "    predict = lambda x: model.predict(pd.DataFrame(x, columns=X_train.columns))\n",
    "    explainer = KernelExplainer(predict, train_sample, link=\"identity\")\n",
    "    shap_values = explainer.shap_values(example, l1_reg=False, nsamples=500)\n",
    "    summary_plot(shap_values, example)"
   ]
  },
  {
   "cell_type": "markdown",
   "metadata": {
    "application/vnd.databricks.v1+cell": {
     "cellMetadata": {},
     "inputWidgets": {},
     "nuid": "2bf4e3c5-7131-4699-b558-b6dcb8f57e38",
     "showTitle": false,
     "title": ""
    }
   },
   "source": [
    "## Inference\n",
    "[The MLflow Model Registry](https://docs.databricks.com/applications/mlflow/model-registry.html) is a collaborative hub where teams can share ML models, work together from experimentation to online testing and production, integrate with approval and governance workflows, and monitor ML deployments and their performance. The snippets below show how to add the model trained in this notebook to the model registry and to retrieve it later for inference.\n",
    "\n",
    "> **NOTE:** The `model_uri` for the model already trained in this notebook can be found in the cell below\n",
    "\n",
    "### Register to Model Registry\n",
    "```\n",
    "model_name = \"Example\"\n",
    "\n",
    "model_uri = f\"runs:/{ mlflow_run.info.run_id }/model\"\n",
    "registered_model_version = mlflow.register_model(model_uri, model_name)\n",
    "```\n",
    "\n",
    "### Load from Model Registry\n",
    "```\n",
    "model_name = \"Example\"\n",
    "model_version = registered_model_version.version\n",
    "\n",
    "model_uri=f\"models:/{model_name}/{model_version}\"\n",
    "model = mlflow.pyfunc.load_model(model_uri=model_uri)\n",
    "model.predict(input_X)\n",
    "```\n",
    "\n",
    "### Load model without registering\n",
    "```\n",
    "model_uri = f\"runs:/{ mlflow_run.info.run_id }/model\"\n",
    "\n",
    "model = mlflow.pyfunc.load_model(model_uri=model_uri)\n",
    "model.predict(input_X)\n",
    "```"
   ]
  },
  {
   "cell_type": "code",
   "execution_count": 0,
   "metadata": {
    "application/vnd.databricks.v1+cell": {
     "cellMetadata": {},
     "inputWidgets": {},
     "nuid": "ba3c8e7d-10b4-4244-8749-70b95d0298c7",
     "showTitle": false,
     "title": ""
    },
    "execution": {
     "iopub.execute_input": "2024-03-03T16:35:47.101358Z",
     "iopub.status.busy": "2024-03-03T16:35:47.100998Z",
     "iopub.status.idle": "2024-03-03T16:35:47.106620Z",
     "shell.execute_reply": "2024-03-03T16:35:47.105970Z"
    }
   },
   "outputs": [
    {
     "output_type": "stream",
     "name": "stdout",
     "output_type": "stream",
     "text": [
      "runs:/c35d86459cc441529d2fa382e499309a/model\n"
     ]
    }
   ],
   "source": [
    "# model_uri for the generated model\n",
    "print(f\"runs:/{ mlflow_run.info.run_id }/model\")"
   ]
  }
 ],
 "metadata": {
  "application/vnd.databricks.v1+notebook": {
   "dashboards": [],
   "language": "python",
   "notebookMetadata": {
    "pythonIndentUnit": 4
   },
   "notebookName": "24-03-03-16:24-XGBoostRegressor-8cb7648cdb597e04097df2826344c73f",
   "widgets": {}
  },
  "language_info": {
   "codemirror_mode": {
    "name": "ipython",
    "version": 3
   },
   "file_extension": ".py",
   "mimetype": "text/x-python",
   "name": "python",
   "nbconvert_exporter": "python",
   "pygments_lexer": "ipython3",
   "version": "3.9.5"
  },
  "name": "XGBoostRegressor-8cb7648cdb597e04097df2826344c73f"
 },
 "nbformat": 4,
 "nbformat_minor": 0
}
